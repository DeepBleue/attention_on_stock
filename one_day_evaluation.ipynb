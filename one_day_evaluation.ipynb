{
 "cells": [
  {
   "cell_type": "code",
   "execution_count": 1,
   "metadata": {},
   "outputs": [],
   "source": [
    "from pykrx import stock\n",
    "from datetime import datetime\n",
    "from util.util import *\n",
    "from tqdm.notebook import tqdm \n",
    "import pickle\n",
    "import numpy as np"
   ]
  },
  {
   "cell_type": "code",
   "execution_count": 2,
   "metadata": {},
   "outputs": [],
   "source": [
    "start_date = '20220101'\n",
    "end_date = '20231103'\n",
    "\n",
    "\n",
    "market = \"KOSPI\"\n"
   ]
  },
  {
   "cell_type": "code",
   "execution_count": 3,
   "metadata": {},
   "outputs": [
    {
     "name": "stdout",
     "output_type": "stream",
     "text": [
      "               시가     고가     저가     종가       거래량       등락률\n",
      "날짜                                                        \n",
      "2022-01-03  79400  79800  78200  78600  13502112  0.383142\n",
      "2022-01-04  78800  79200  78300  78700  12427416  0.127226\n",
      "2022-01-05  78800  79000  76400  77400  25470640 -1.651842\n",
      "2022-01-06  76700  77600  76600  76900  12931954 -0.645995\n",
      "2022-01-07  78100  78400  77400  78300  15163757  1.820546\n",
      "...           ...    ...    ...    ...       ...       ...\n",
      "2023-10-30  66800  67800  66700  67300  10139270  0.000000\n",
      "2023-10-31  67600  68300  66900  66900  14488892 -0.594354\n",
      "2023-11-01  67500  68900  67300  68600  13775256  2.541106\n",
      "2023-11-02  70000  70000  69400  69700  16350031  1.603499\n",
      "2023-11-03  69700  70200  69500  69600  10275036 -0.143472\n",
      "\n",
      "[453 rows x 6 columns]\n"
     ]
    }
   ],
   "source": [
    "################ 삼성으로 데이터 길이 동일하게 만들기 \n",
    "samsung = '005930'\n",
    "\n",
    "df = stock.get_market_ohlcv(start_date, end_date, samsung)\n",
    "sample_date_len = len(df)\n",
    "print(df)\n",
    "\n",
    "################# 모든 데이터에 대해서 데이터 얻기 "
   ]
  },
  {
   "cell_type": "code",
   "execution_count": 4,
   "metadata": {},
   "outputs": [
    {
     "name": "stdout",
     "output_type": "stream",
     "text": [
      "952\n"
     ]
    }
   ],
   "source": [
    "tickers = stock.get_market_ticker_list(end_date, market=market)\n",
    "names = [stock.get_market_ticker_name(ticker) for ticker in tickers]\n",
    "\n",
    "print(len(tickers))"
   ]
  },
  {
   "cell_type": "code",
   "execution_count": 5,
   "metadata": {},
   "outputs": [
    {
     "data": {
      "application/vnd.jupyter.widget-view+json": {
       "model_id": "96701863acd0462496b0f2868355eb9d",
       "version_major": 2,
       "version_minor": 0
      },
      "text/plain": [
       "  0%|          | 0/952 [00:00<?, ?it/s]"
      ]
     },
     "metadata": {},
     "output_type": "display_data"
    },
    {
     "name": "stdout",
     "output_type": "stream",
     "text": [
      "ticker : 001040 , name : CJ has Nan or Inf value.\n",
      "ticker : 000480 , name : CR홀딩스 has Nan or Inf value.\n",
      "ticker : 012030 , name : DB has Nan or Inf value.\n",
      "ticker : 365550 , name : ESR켄달스퀘어리츠 has no 42 features.\n",
      "ticker : 003560 , name : IHQ has Nan or Inf value.\n",
      "ticker : 001390 , name : KG케미칼 has Nan or Inf value.\n",
      "ticker : 033180 , name : KH 필룩스 has Nan or Inf value.\n",
      "ticker : 400760 , name : NH올원리츠 has no 42 features.\n",
      "ticker : 338100 , name : NH프라임리츠 has no 42 features.\n",
      "ticker : 395400 , name : SK리츠 has no 42 features.\n",
      "ticker : 011810 , name : STX has Nan or Inf value.\n",
      "ticker : 005725 , name : 넥센우 has Nan or Inf value.\n",
      "ticker : 009190 , name : 대양금속 has Nan or Inf value.\n",
      "ticker : 000300 , name : 대유플러스 has Nan or Inf value.\n",
      "ticker : 001070 , name : 대한방직 has Nan or Inf value.\n",
      "ticker : 004830 , name : 덕성 has Nan or Inf value.\n"
     ]
    },
    {
     "ename": "KeyboardInterrupt",
     "evalue": "",
     "output_type": "error",
     "traceback": [
      "\u001b[1;31m---------------------------------------------------------------------------\u001b[0m",
      "\u001b[1;31mKeyboardInterrupt\u001b[0m                         Traceback (most recent call last)",
      "\u001b[1;32mc:\\Users\\pari0\\Desktop\\beta\\one_day_evaluation.ipynb Cell 5\u001b[0m line \u001b[0;36m1\n\u001b[0;32m     <a href='vscode-notebook-cell:/c%3A/Users/pari0/Desktop/beta/one_day_evaluation.ipynb#W4sZmlsZQ%3D%3D?line=13'>14</a>\u001b[0m df \u001b[39m=\u001b[39m rename_columns(df)\n\u001b[0;32m     <a href='vscode-notebook-cell:/c%3A/Users/pari0/Desktop/beta/one_day_evaluation.ipynb#W4sZmlsZQ%3D%3D?line=14'>15</a>\u001b[0m df \u001b[39m=\u001b[39m add_all_feature(df)\n\u001b[1;32m---> <a href='vscode-notebook-cell:/c%3A/Users/pari0/Desktop/beta/one_day_evaluation.ipynb#W4sZmlsZQ%3D%3D?line=15'>16</a>\u001b[0m df_fdm \u001b[39m=\u001b[39m stock\u001b[39m.\u001b[39;49mget_market_fundamental(start_date, end_date, ticker, freq\u001b[39m=\u001b[39;49m\u001b[39m\"\u001b[39;49m\u001b[39md\u001b[39;49m\u001b[39m\"\u001b[39;49m)\n\u001b[0;32m     <a href='vscode-notebook-cell:/c%3A/Users/pari0/Desktop/beta/one_day_evaluation.ipynb#W4sZmlsZQ%3D%3D?line=16'>17</a>\u001b[0m df_tra_vol_all \u001b[39m=\u001b[39m stock\u001b[39m.\u001b[39mget_market_trading_volume_by_date(start_date, end_date, ticker,on\u001b[39m=\u001b[39m\u001b[39m'\u001b[39m\u001b[39m순매수\u001b[39m\u001b[39m'\u001b[39m)\n\u001b[0;32m     <a href='vscode-notebook-cell:/c%3A/Users/pari0/Desktop/beta/one_day_evaluation.ipynb#W4sZmlsZQ%3D%3D?line=17'>18</a>\u001b[0m df_tra_vol_all \u001b[39m=\u001b[39m rename_to_english(df_tra_vol_all)\n",
      "File \u001b[1;32mc:\\Users\\pari0\\anaconda3\\envs\\alpha\\lib\\site-packages\\pykrx\\stock\\stock_api.py:678\u001b[0m, in \u001b[0;36mget_market_fundamental\u001b[1;34m(*args, **kwargs)\u001b[0m\n\u001b[0;32m    675\u001b[0m dates \u001b[39m=\u001b[39m \u001b[39mlist\u001b[39m(\u001b[39mfilter\u001b[39m(regex_yymmdd\u001b[39m.\u001b[39mmatch, [\u001b[39mstr\u001b[39m(x) \u001b[39mfor\u001b[39;00m x \u001b[39min\u001b[39;00m args]))\n\u001b[0;32m    676\u001b[0m \u001b[39mif\u001b[39;00m \u001b[39mlen\u001b[39m(dates) \u001b[39m==\u001b[39m \u001b[39m2\u001b[39m \u001b[39mor\u001b[39;00m (\u001b[39m'\u001b[39m\u001b[39mfromdate\u001b[39m\u001b[39m'\u001b[39m \u001b[39min\u001b[39;00m kwargs \u001b[39mand\u001b[39;00m\n\u001b[0;32m    677\u001b[0m                        \u001b[39m'\u001b[39m\u001b[39mtodate\u001b[39m\u001b[39m'\u001b[39m \u001b[39min\u001b[39;00m kwargs):\n\u001b[1;32m--> 678\u001b[0m     \u001b[39mreturn\u001b[39;00m get_market_fundamental_by_date(\u001b[39m*\u001b[39margs, \u001b[39m*\u001b[39m\u001b[39m*\u001b[39mkwargs)\n\u001b[0;32m    679\u001b[0m \u001b[39melse\u001b[39;00m:\n\u001b[0;32m    680\u001b[0m     \u001b[39mreturn\u001b[39;00m get_market_fundamental_by_ticker(\u001b[39m*\u001b[39margs, \u001b[39m*\u001b[39m\u001b[39m*\u001b[39mkwargs)\n",
      "File \u001b[1;32mc:\\Users\\pari0\\anaconda3\\envs\\alpha\\lib\\site-packages\\pykrx\\stock\\stock_api.py:728\u001b[0m, in \u001b[0;36mget_market_fundamental_by_date\u001b[1;34m(fromdate, todate, ticker, freq, name_display)\u001b[0m\n\u001b[0;32m    725\u001b[0m fromdate \u001b[39m=\u001b[39m fromdate\u001b[39m.\u001b[39mreplace(\u001b[39m\"\u001b[39m\u001b[39m-\u001b[39m\u001b[39m\"\u001b[39m, \u001b[39m\"\u001b[39m\u001b[39m\"\u001b[39m)\n\u001b[0;32m    726\u001b[0m todate \u001b[39m=\u001b[39m todate\u001b[39m.\u001b[39mreplace(\u001b[39m\"\u001b[39m\u001b[39m-\u001b[39m\u001b[39m\"\u001b[39m, \u001b[39m\"\u001b[39m\u001b[39m\"\u001b[39m)\n\u001b[1;32m--> 728\u001b[0m df \u001b[39m=\u001b[39m krx\u001b[39m.\u001b[39;49mget_market_fundamental_by_date(fromdate, todate, ticker)\n\u001b[0;32m    730\u001b[0m \u001b[39mif\u001b[39;00m df\u001b[39m.\u001b[39mempty:\n\u001b[0;32m    731\u001b[0m     \u001b[39mreturn\u001b[39;00m df\n",
      "File \u001b[1;32mc:\\Users\\pari0\\anaconda3\\envs\\alpha\\lib\\site-packages\\pykrx\\website\\comm\\util.py:8\u001b[0m, in \u001b[0;36mdataframe_empty_handler.<locals>.wrapper\u001b[1;34m(*args, **kwargs)\u001b[0m\n\u001b[0;32m      6\u001b[0m \u001b[39mdef\u001b[39;00m \u001b[39mwrapper\u001b[39m(\u001b[39m*\u001b[39margs, \u001b[39m*\u001b[39m\u001b[39m*\u001b[39mkwargs):\n\u001b[0;32m      7\u001b[0m     \u001b[39mtry\u001b[39;00m:\n\u001b[1;32m----> 8\u001b[0m         \u001b[39mreturn\u001b[39;00m func(\u001b[39m*\u001b[39margs, \u001b[39m*\u001b[39m\u001b[39m*\u001b[39mkwargs)\n\u001b[0;32m      9\u001b[0m     \u001b[39mexcept\u001b[39;00m (\u001b[39mAttributeError\u001b[39;00m, \u001b[39mKeyError\u001b[39;00m, \u001b[39mTypeError\u001b[39;00m, \u001b[39mValueError\u001b[39;00m) \u001b[39mas\u001b[39;00m e:\n\u001b[0;32m     10\u001b[0m         logging\u001b[39m.\u001b[39minfo(args, kwargs)\n",
      "File \u001b[1;32mc:\\Users\\pari0\\anaconda3\\envs\\alpha\\lib\\site-packages\\pykrx\\website\\krx\\market\\wrap.py:263\u001b[0m, in \u001b[0;36mget_market_fundamental_by_date\u001b[1;34m(fromdate, todate, ticker)\u001b[0m\n\u001b[0;32m    260\u001b[0m isin \u001b[39m=\u001b[39m get_stock_ticker_isin(ticker)\n\u001b[0;32m    261\u001b[0m \u001b[39m# market = get_stock_ticekr_market(ticker)\u001b[39;00m\n\u001b[1;32m--> 263\u001b[0m df \u001b[39m=\u001b[39m PER_PBR_배당수익률_개별()\u001b[39m.\u001b[39;49mfetch(fromdate, todate, \u001b[39m\"\u001b[39;49m\u001b[39mALL\u001b[39;49m\u001b[39m\"\u001b[39;49m, isin)\n\u001b[0;32m    265\u001b[0m df \u001b[39m=\u001b[39m df[[\u001b[39m'\u001b[39m\u001b[39mTRD_DD\u001b[39m\u001b[39m'\u001b[39m, \u001b[39m'\u001b[39m\u001b[39mBPS\u001b[39m\u001b[39m'\u001b[39m, \u001b[39m'\u001b[39m\u001b[39mPER\u001b[39m\u001b[39m'\u001b[39m, \u001b[39m'\u001b[39m\u001b[39mPBR\u001b[39m\u001b[39m'\u001b[39m, \u001b[39m'\u001b[39m\u001b[39mEPS\u001b[39m\u001b[39m'\u001b[39m, \u001b[39m'\u001b[39m\u001b[39mDVD_YLD\u001b[39m\u001b[39m'\u001b[39m, \u001b[39m'\u001b[39m\u001b[39mDPS\u001b[39m\u001b[39m'\u001b[39m]]\n\u001b[0;32m    266\u001b[0m df\u001b[39m.\u001b[39mcolumns \u001b[39m=\u001b[39m [\u001b[39m'\u001b[39m\u001b[39m날짜\u001b[39m\u001b[39m'\u001b[39m, \u001b[39m'\u001b[39m\u001b[39mBPS\u001b[39m\u001b[39m'\u001b[39m, \u001b[39m'\u001b[39m\u001b[39mPER\u001b[39m\u001b[39m'\u001b[39m, \u001b[39m'\u001b[39m\u001b[39mPBR\u001b[39m\u001b[39m'\u001b[39m, \u001b[39m'\u001b[39m\u001b[39mEPS\u001b[39m\u001b[39m'\u001b[39m, \u001b[39m'\u001b[39m\u001b[39mDIV\u001b[39m\u001b[39m'\u001b[39m, \u001b[39m'\u001b[39m\u001b[39mDPS\u001b[39m\u001b[39m'\u001b[39m]\n",
      "File \u001b[1;32mc:\\Users\\pari0\\anaconda3\\envs\\alpha\\lib\\site-packages\\pykrx\\website\\krx\\market\\core.py:228\u001b[0m, in \u001b[0;36mPER_PBR_배당수익률_개별.fetch\u001b[1;34m(self, strtDd, endDd, mktId, isuCd)\u001b[0m\n\u001b[0;32m    202\u001b[0m \u001b[39mdef\u001b[39;00m \u001b[39mfetch\u001b[39m(\u001b[39mself\u001b[39m, strtDd: \u001b[39mstr\u001b[39m, endDd: \u001b[39mstr\u001b[39m, mktId: \u001b[39mstr\u001b[39m, isuCd: \u001b[39mstr\u001b[39m) \\\n\u001b[0;32m    203\u001b[0m         \u001b[39m-\u001b[39m\u001b[39m>\u001b[39m DataFrame:\n\u001b[0;32m    204\u001b[0m \u001b[39m    \u001b[39m\u001b[39m\"\"\"[12021] PER/PBR/배당수익률\u001b[39;00m\n\u001b[0;32m    205\u001b[0m \n\u001b[0;32m    206\u001b[0m \u001b[39m    Args:\u001b[39;00m\n\u001b[1;32m   (...)\u001b[0m\n\u001b[0;32m    226\u001b[0m \u001b[39m            5,997  7.59  28,126  1.62  850    1.87\u001b[39;00m\n\u001b[0;32m    227\u001b[0m \u001b[39m    \"\"\"\u001b[39;00m\n\u001b[1;32m--> 228\u001b[0m     result \u001b[39m=\u001b[39m \u001b[39mself\u001b[39;49m\u001b[39m.\u001b[39;49mread(mktId\u001b[39m=\u001b[39;49mmktId, strtDd\u001b[39m=\u001b[39;49mstrtDd, endDd\u001b[39m=\u001b[39;49mendDd,\n\u001b[0;32m    229\u001b[0m                        isuCd\u001b[39m=\u001b[39;49misuCd)\n\u001b[0;32m    230\u001b[0m     \u001b[39mreturn\u001b[39;00m DataFrame(result[\u001b[39m'\u001b[39m\u001b[39moutput\u001b[39m\u001b[39m'\u001b[39m])\n",
      "File \u001b[1;32mc:\\Users\\pari0\\anaconda3\\envs\\alpha\\lib\\site-packages\\pykrx\\website\\krx\\krxio.py:48\u001b[0m, in \u001b[0;36mKrxWebIo.read\u001b[1;34m(self, **params)\u001b[0m\n\u001b[0;32m     46\u001b[0m params[\u001b[39m'\u001b[39m\u001b[39mstrtDd\u001b[39m\u001b[39m'\u001b[39m] \u001b[39m=\u001b[39m dt_s\u001b[39m.\u001b[39mstrftime(\u001b[39m\"\u001b[39m\u001b[39m%\u001b[39m\u001b[39mY\u001b[39m\u001b[39m%\u001b[39m\u001b[39mm\u001b[39m\u001b[39m%d\u001b[39;00m\u001b[39m\"\u001b[39m)\n\u001b[0;32m     47\u001b[0m params[\u001b[39m'\u001b[39m\u001b[39mendDd\u001b[39m\u001b[39m'\u001b[39m] \u001b[39m=\u001b[39m dt_e\u001b[39m.\u001b[39mstrftime(\u001b[39m\"\u001b[39m\u001b[39m%\u001b[39m\u001b[39mY\u001b[39m\u001b[39m%\u001b[39m\u001b[39mm\u001b[39m\u001b[39m%d\u001b[39;00m\u001b[39m\"\u001b[39m)\n\u001b[1;32m---> 48\u001b[0m resp \u001b[39m=\u001b[39m \u001b[39msuper\u001b[39m()\u001b[39m.\u001b[39mread(\u001b[39m*\u001b[39m\u001b[39m*\u001b[39mparams)\n\u001b[0;32m     50\u001b[0m \u001b[39mif\u001b[39;00m result \u001b[39mis\u001b[39;00m \u001b[39mnot\u001b[39;00m \u001b[39mNone\u001b[39;00m:\n\u001b[0;32m     51\u001b[0m     result[\u001b[39m'\u001b[39m\u001b[39moutput\u001b[39m\u001b[39m'\u001b[39m] \u001b[39m+\u001b[39m\u001b[39m=\u001b[39m resp\u001b[39m.\u001b[39mjson()[\u001b[39m'\u001b[39m\u001b[39moutput\u001b[39m\u001b[39m'\u001b[39m]\n",
      "File \u001b[1;32mc:\\Users\\pari0\\anaconda3\\envs\\alpha\\lib\\site-packages\\pykrx\\website\\comm\\webio.py:26\u001b[0m, in \u001b[0;36mPost.read\u001b[1;34m(self, **params)\u001b[0m\n\u001b[0;32m     25\u001b[0m \u001b[39mdef\u001b[39;00m \u001b[39mread\u001b[39m(\u001b[39mself\u001b[39m, \u001b[39m*\u001b[39m\u001b[39m*\u001b[39mparams):\n\u001b[1;32m---> 26\u001b[0m     resp \u001b[39m=\u001b[39m requests\u001b[39m.\u001b[39;49mpost(\u001b[39mself\u001b[39;49m\u001b[39m.\u001b[39;49murl, headers\u001b[39m=\u001b[39;49m\u001b[39mself\u001b[39;49m\u001b[39m.\u001b[39;49mheaders, data\u001b[39m=\u001b[39;49mparams)\n\u001b[0;32m     27\u001b[0m     \u001b[39mreturn\u001b[39;00m resp\n",
      "File \u001b[1;32mc:\\Users\\pari0\\anaconda3\\envs\\alpha\\lib\\site-packages\\requests\\api.py:115\u001b[0m, in \u001b[0;36mpost\u001b[1;34m(url, data, json, **kwargs)\u001b[0m\n\u001b[0;32m    103\u001b[0m \u001b[39mdef\u001b[39;00m \u001b[39mpost\u001b[39m(url, data\u001b[39m=\u001b[39m\u001b[39mNone\u001b[39;00m, json\u001b[39m=\u001b[39m\u001b[39mNone\u001b[39;00m, \u001b[39m*\u001b[39m\u001b[39m*\u001b[39mkwargs):\n\u001b[0;32m    104\u001b[0m \u001b[39m    \u001b[39m\u001b[39mr\u001b[39m\u001b[39m\"\"\"Sends a POST request.\u001b[39;00m\n\u001b[0;32m    105\u001b[0m \n\u001b[0;32m    106\u001b[0m \u001b[39m    :param url: URL for the new :class:`Request` object.\u001b[39;00m\n\u001b[1;32m   (...)\u001b[0m\n\u001b[0;32m    112\u001b[0m \u001b[39m    :rtype: requests.Response\u001b[39;00m\n\u001b[0;32m    113\u001b[0m \u001b[39m    \"\"\"\u001b[39;00m\n\u001b[1;32m--> 115\u001b[0m     \u001b[39mreturn\u001b[39;00m request(\u001b[39m\"\u001b[39m\u001b[39mpost\u001b[39m\u001b[39m\"\u001b[39m, url, data\u001b[39m=\u001b[39mdata, json\u001b[39m=\u001b[39mjson, \u001b[39m*\u001b[39m\u001b[39m*\u001b[39mkwargs)\n",
      "File \u001b[1;32mc:\\Users\\pari0\\anaconda3\\envs\\alpha\\lib\\site-packages\\requests\\api.py:59\u001b[0m, in \u001b[0;36mrequest\u001b[1;34m(method, url, **kwargs)\u001b[0m\n\u001b[0;32m     55\u001b[0m \u001b[39m# By using the 'with' statement we are sure the session is closed, thus we\u001b[39;00m\n\u001b[0;32m     56\u001b[0m \u001b[39m# avoid leaving sockets open which can trigger a ResourceWarning in some\u001b[39;00m\n\u001b[0;32m     57\u001b[0m \u001b[39m# cases, and look like a memory leak in others.\u001b[39;00m\n\u001b[0;32m     58\u001b[0m \u001b[39mwith\u001b[39;00m sessions\u001b[39m.\u001b[39mSession() \u001b[39mas\u001b[39;00m session:\n\u001b[1;32m---> 59\u001b[0m     \u001b[39mreturn\u001b[39;00m session\u001b[39m.\u001b[39mrequest(method\u001b[39m=\u001b[39mmethod, url\u001b[39m=\u001b[39murl, \u001b[39m*\u001b[39m\u001b[39m*\u001b[39mkwargs)\n",
      "File \u001b[1;32mc:\\Users\\pari0\\anaconda3\\envs\\alpha\\lib\\site-packages\\requests\\sessions.py:589\u001b[0m, in \u001b[0;36mSession.request\u001b[1;34m(self, method, url, params, data, headers, cookies, files, auth, timeout, allow_redirects, proxies, hooks, stream, verify, cert, json)\u001b[0m\n\u001b[0;32m    584\u001b[0m send_kwargs \u001b[39m=\u001b[39m {\n\u001b[0;32m    585\u001b[0m     \u001b[39m\"\u001b[39m\u001b[39mtimeout\u001b[39m\u001b[39m\"\u001b[39m: timeout,\n\u001b[0;32m    586\u001b[0m     \u001b[39m\"\u001b[39m\u001b[39mallow_redirects\u001b[39m\u001b[39m\"\u001b[39m: allow_redirects,\n\u001b[0;32m    587\u001b[0m }\n\u001b[0;32m    588\u001b[0m send_kwargs\u001b[39m.\u001b[39mupdate(settings)\n\u001b[1;32m--> 589\u001b[0m resp \u001b[39m=\u001b[39m \u001b[39mself\u001b[39m\u001b[39m.\u001b[39msend(prep, \u001b[39m*\u001b[39m\u001b[39m*\u001b[39msend_kwargs)\n\u001b[0;32m    591\u001b[0m \u001b[39mreturn\u001b[39;00m resp\n",
      "File \u001b[1;32mc:\\Users\\pari0\\anaconda3\\envs\\alpha\\lib\\site-packages\\requests\\sessions.py:703\u001b[0m, in \u001b[0;36mSession.send\u001b[1;34m(self, request, **kwargs)\u001b[0m\n\u001b[0;32m    700\u001b[0m start \u001b[39m=\u001b[39m preferred_clock()\n\u001b[0;32m    702\u001b[0m \u001b[39m# Send the request\u001b[39;00m\n\u001b[1;32m--> 703\u001b[0m r \u001b[39m=\u001b[39m adapter\u001b[39m.\u001b[39msend(request, \u001b[39m*\u001b[39m\u001b[39m*\u001b[39mkwargs)\n\u001b[0;32m    705\u001b[0m \u001b[39m# Total elapsed time of the request (approximately)\u001b[39;00m\n\u001b[0;32m    706\u001b[0m elapsed \u001b[39m=\u001b[39m preferred_clock() \u001b[39m-\u001b[39m start\n",
      "File \u001b[1;32mc:\\Users\\pari0\\anaconda3\\envs\\alpha\\lib\\site-packages\\requests\\adapters.py:486\u001b[0m, in \u001b[0;36mHTTPAdapter.send\u001b[1;34m(self, request, stream, timeout, verify, cert, proxies)\u001b[0m\n\u001b[0;32m    483\u001b[0m     timeout \u001b[39m=\u001b[39m TimeoutSauce(connect\u001b[39m=\u001b[39mtimeout, read\u001b[39m=\u001b[39mtimeout)\n\u001b[0;32m    485\u001b[0m \u001b[39mtry\u001b[39;00m:\n\u001b[1;32m--> 486\u001b[0m     resp \u001b[39m=\u001b[39m conn\u001b[39m.\u001b[39;49murlopen(\n\u001b[0;32m    487\u001b[0m         method\u001b[39m=\u001b[39;49mrequest\u001b[39m.\u001b[39;49mmethod,\n\u001b[0;32m    488\u001b[0m         url\u001b[39m=\u001b[39;49murl,\n\u001b[0;32m    489\u001b[0m         body\u001b[39m=\u001b[39;49mrequest\u001b[39m.\u001b[39;49mbody,\n\u001b[0;32m    490\u001b[0m         headers\u001b[39m=\u001b[39;49mrequest\u001b[39m.\u001b[39;49mheaders,\n\u001b[0;32m    491\u001b[0m         redirect\u001b[39m=\u001b[39;49m\u001b[39mFalse\u001b[39;49;00m,\n\u001b[0;32m    492\u001b[0m         assert_same_host\u001b[39m=\u001b[39;49m\u001b[39mFalse\u001b[39;49;00m,\n\u001b[0;32m    493\u001b[0m         preload_content\u001b[39m=\u001b[39;49m\u001b[39mFalse\u001b[39;49;00m,\n\u001b[0;32m    494\u001b[0m         decode_content\u001b[39m=\u001b[39;49m\u001b[39mFalse\u001b[39;49;00m,\n\u001b[0;32m    495\u001b[0m         retries\u001b[39m=\u001b[39;49m\u001b[39mself\u001b[39;49m\u001b[39m.\u001b[39;49mmax_retries,\n\u001b[0;32m    496\u001b[0m         timeout\u001b[39m=\u001b[39;49mtimeout,\n\u001b[0;32m    497\u001b[0m         chunked\u001b[39m=\u001b[39;49mchunked,\n\u001b[0;32m    498\u001b[0m     )\n\u001b[0;32m    500\u001b[0m \u001b[39mexcept\u001b[39;00m (ProtocolError, \u001b[39mOSError\u001b[39;00m) \u001b[39mas\u001b[39;00m err:\n\u001b[0;32m    501\u001b[0m     \u001b[39mraise\u001b[39;00m \u001b[39mConnectionError\u001b[39;00m(err, request\u001b[39m=\u001b[39mrequest)\n",
      "File \u001b[1;32mc:\\Users\\pari0\\anaconda3\\envs\\alpha\\lib\\site-packages\\urllib3\\connectionpool.py:790\u001b[0m, in \u001b[0;36mHTTPConnectionPool.urlopen\u001b[1;34m(self, method, url, body, headers, retries, redirect, assert_same_host, timeout, pool_timeout, release_conn, chunked, body_pos, preload_content, decode_content, **response_kw)\u001b[0m\n\u001b[0;32m    787\u001b[0m response_conn \u001b[39m=\u001b[39m conn \u001b[39mif\u001b[39;00m \u001b[39mnot\u001b[39;00m release_conn \u001b[39melse\u001b[39;00m \u001b[39mNone\u001b[39;00m\n\u001b[0;32m    789\u001b[0m \u001b[39m# Make the request on the HTTPConnection object\u001b[39;00m\n\u001b[1;32m--> 790\u001b[0m response \u001b[39m=\u001b[39m \u001b[39mself\u001b[39m\u001b[39m.\u001b[39m_make_request(\n\u001b[0;32m    791\u001b[0m     conn,\n\u001b[0;32m    792\u001b[0m     method,\n\u001b[0;32m    793\u001b[0m     url,\n\u001b[0;32m    794\u001b[0m     timeout\u001b[39m=\u001b[39mtimeout_obj,\n\u001b[0;32m    795\u001b[0m     body\u001b[39m=\u001b[39mbody,\n\u001b[0;32m    796\u001b[0m     headers\u001b[39m=\u001b[39mheaders,\n\u001b[0;32m    797\u001b[0m     chunked\u001b[39m=\u001b[39mchunked,\n\u001b[0;32m    798\u001b[0m     retries\u001b[39m=\u001b[39mretries,\n\u001b[0;32m    799\u001b[0m     response_conn\u001b[39m=\u001b[39mresponse_conn,\n\u001b[0;32m    800\u001b[0m     preload_content\u001b[39m=\u001b[39mpreload_content,\n\u001b[0;32m    801\u001b[0m     decode_content\u001b[39m=\u001b[39mdecode_content,\n\u001b[0;32m    802\u001b[0m     \u001b[39m*\u001b[39m\u001b[39m*\u001b[39mresponse_kw,\n\u001b[0;32m    803\u001b[0m )\n\u001b[0;32m    805\u001b[0m \u001b[39m# Everything went great!\u001b[39;00m\n\u001b[0;32m    806\u001b[0m clean_exit \u001b[39m=\u001b[39m \u001b[39mTrue\u001b[39;00m\n",
      "File \u001b[1;32mc:\\Users\\pari0\\anaconda3\\envs\\alpha\\lib\\site-packages\\urllib3\\connectionpool.py:536\u001b[0m, in \u001b[0;36mHTTPConnectionPool._make_request\u001b[1;34m(self, conn, method, url, body, headers, retries, timeout, chunked, response_conn, preload_content, decode_content, enforce_content_length)\u001b[0m\n\u001b[0;32m    534\u001b[0m \u001b[39m# Receive the response from the server\u001b[39;00m\n\u001b[0;32m    535\u001b[0m \u001b[39mtry\u001b[39;00m:\n\u001b[1;32m--> 536\u001b[0m     response \u001b[39m=\u001b[39m conn\u001b[39m.\u001b[39;49mgetresponse()\n\u001b[0;32m    537\u001b[0m \u001b[39mexcept\u001b[39;00m (BaseSSLError, \u001b[39mOSError\u001b[39;00m) \u001b[39mas\u001b[39;00m e:\n\u001b[0;32m    538\u001b[0m     \u001b[39mself\u001b[39m\u001b[39m.\u001b[39m_raise_timeout(err\u001b[39m=\u001b[39me, url\u001b[39m=\u001b[39murl, timeout_value\u001b[39m=\u001b[39mread_timeout)\n",
      "File \u001b[1;32mc:\\Users\\pari0\\anaconda3\\envs\\alpha\\lib\\site-packages\\urllib3\\connection.py:461\u001b[0m, in \u001b[0;36mHTTPConnection.getresponse\u001b[1;34m(self)\u001b[0m\n\u001b[0;32m    458\u001b[0m \u001b[39mfrom\u001b[39;00m \u001b[39m.\u001b[39;00m\u001b[39mresponse\u001b[39;00m \u001b[39mimport\u001b[39;00m HTTPResponse\n\u001b[0;32m    460\u001b[0m \u001b[39m# Get the response from http.client.HTTPConnection\u001b[39;00m\n\u001b[1;32m--> 461\u001b[0m httplib_response \u001b[39m=\u001b[39m \u001b[39msuper\u001b[39;49m()\u001b[39m.\u001b[39;49mgetresponse()\n\u001b[0;32m    463\u001b[0m \u001b[39mtry\u001b[39;00m:\n\u001b[0;32m    464\u001b[0m     assert_header_parsing(httplib_response\u001b[39m.\u001b[39mmsg)\n",
      "File \u001b[1;32mc:\\Users\\pari0\\anaconda3\\envs\\alpha\\lib\\http\\client.py:1377\u001b[0m, in \u001b[0;36mHTTPConnection.getresponse\u001b[1;34m(self)\u001b[0m\n\u001b[0;32m   1375\u001b[0m \u001b[39mtry\u001b[39;00m:\n\u001b[0;32m   1376\u001b[0m     \u001b[39mtry\u001b[39;00m:\n\u001b[1;32m-> 1377\u001b[0m         response\u001b[39m.\u001b[39;49mbegin()\n\u001b[0;32m   1378\u001b[0m     \u001b[39mexcept\u001b[39;00m \u001b[39mConnectionError\u001b[39;00m:\n\u001b[0;32m   1379\u001b[0m         \u001b[39mself\u001b[39m\u001b[39m.\u001b[39mclose()\n",
      "File \u001b[1;32mc:\\Users\\pari0\\anaconda3\\envs\\alpha\\lib\\http\\client.py:320\u001b[0m, in \u001b[0;36mHTTPResponse.begin\u001b[1;34m(self)\u001b[0m\n\u001b[0;32m    318\u001b[0m \u001b[39m# read until we get a non-100 response\u001b[39;00m\n\u001b[0;32m    319\u001b[0m \u001b[39mwhile\u001b[39;00m \u001b[39mTrue\u001b[39;00m:\n\u001b[1;32m--> 320\u001b[0m     version, status, reason \u001b[39m=\u001b[39m \u001b[39mself\u001b[39;49m\u001b[39m.\u001b[39;49m_read_status()\n\u001b[0;32m    321\u001b[0m     \u001b[39mif\u001b[39;00m status \u001b[39m!=\u001b[39m CONTINUE:\n\u001b[0;32m    322\u001b[0m         \u001b[39mbreak\u001b[39;00m\n",
      "File \u001b[1;32mc:\\Users\\pari0\\anaconda3\\envs\\alpha\\lib\\http\\client.py:281\u001b[0m, in \u001b[0;36mHTTPResponse._read_status\u001b[1;34m(self)\u001b[0m\n\u001b[0;32m    280\u001b[0m \u001b[39mdef\u001b[39;00m \u001b[39m_read_status\u001b[39m(\u001b[39mself\u001b[39m):\n\u001b[1;32m--> 281\u001b[0m     line \u001b[39m=\u001b[39m \u001b[39mstr\u001b[39m(\u001b[39mself\u001b[39;49m\u001b[39m.\u001b[39;49mfp\u001b[39m.\u001b[39;49mreadline(_MAXLINE \u001b[39m+\u001b[39;49m \u001b[39m1\u001b[39;49m), \u001b[39m\"\u001b[39m\u001b[39miso-8859-1\u001b[39m\u001b[39m\"\u001b[39m)\n\u001b[0;32m    282\u001b[0m     \u001b[39mif\u001b[39;00m \u001b[39mlen\u001b[39m(line) \u001b[39m>\u001b[39m _MAXLINE:\n\u001b[0;32m    283\u001b[0m         \u001b[39mraise\u001b[39;00m LineTooLong(\u001b[39m\"\u001b[39m\u001b[39mstatus line\u001b[39m\u001b[39m\"\u001b[39m)\n",
      "File \u001b[1;32mc:\\Users\\pari0\\anaconda3\\envs\\alpha\\lib\\socket.py:704\u001b[0m, in \u001b[0;36mSocketIO.readinto\u001b[1;34m(self, b)\u001b[0m\n\u001b[0;32m    702\u001b[0m \u001b[39mwhile\u001b[39;00m \u001b[39mTrue\u001b[39;00m:\n\u001b[0;32m    703\u001b[0m     \u001b[39mtry\u001b[39;00m:\n\u001b[1;32m--> 704\u001b[0m         \u001b[39mreturn\u001b[39;00m \u001b[39mself\u001b[39;49m\u001b[39m.\u001b[39;49m_sock\u001b[39m.\u001b[39;49mrecv_into(b)\n\u001b[0;32m    705\u001b[0m     \u001b[39mexcept\u001b[39;00m timeout:\n\u001b[0;32m    706\u001b[0m         \u001b[39mself\u001b[39m\u001b[39m.\u001b[39m_timeout_occurred \u001b[39m=\u001b[39m \u001b[39mTrue\u001b[39;00m\n",
      "\u001b[1;31mKeyboardInterrupt\u001b[0m: "
     ]
    }
   ],
   "source": [
    "all_data = []\n",
    "valid_ticker = {}\n",
    "\n",
    "\n",
    "for name , ticker in tqdm(zip(names,tickers),total=len(names)):\n",
    "\n",
    "    try : \n",
    "        df = stock.get_market_ohlcv(start_date, end_date, ticker)\n",
    "    except : \n",
    "        continue\n",
    "    if len(df) != sample_date_len : \n",
    "        continue\n",
    "    dates = df.index\n",
    "    df = rename_columns(df)\n",
    "    df = add_all_feature(df)\n",
    "    df_fdm = stock.get_market_fundamental(start_date, end_date, ticker, freq=\"d\")\n",
    "    df_tra_vol_all = stock.get_market_trading_volume_by_date(start_date, end_date, ticker,on='순매수')\n",
    "    df_tra_vol_all = rename_to_english(df_tra_vol_all)\n",
    "    merged_df_1 = df.merge(df_fdm, left_index=True, right_index=True, how='outer')\n",
    "    merged_df_2 = merged_df_1.merge(df_tra_vol_all, left_index=True, right_index=True, how='outer')\n",
    "    df = merged_df_2\n",
    "    \n",
    "    \n",
    "    if len(df.columns) != 42 : \n",
    "        print(f'ticker : {ticker} , name : {name} has no 42 features.')\n",
    "        continue\n",
    "    \n",
    "    # df = df[df.index.year == end_year]    \n",
    "    df_80 = df[-80:].copy()\n",
    "\n",
    "    \n",
    "    # Check for NaN or infinite values in the dataframe\n",
    "    if df_80.isnull().any().any() or np.isinf(df_80.values).any():\n",
    "        print(f'ticker : {ticker} , name : {name} has Nan or Inf value.')\n",
    "        continue\n",
    "\n",
    "\n",
    "    dates = df_80.index    \n",
    "    np_df = np.array(df_80)\n",
    "    all_data.append(np_df)\n",
    "    valid_ticker[ticker] = name"
   ]
  },
  {
   "cell_type": "code",
   "execution_count": null,
   "metadata": {},
   "outputs": [],
   "source": [
    "all_data = []\n",
    "valid_ticker = {}\n",
    "\n",
    "\n",
    "for name , ticker in tqdm(zip(names,tickers),total=len(names)):\n",
    "\n",
    "    try : \n",
    "        df = stock.get_market_ohlcv(start_date, end_date, ticker)\n",
    "    except : \n",
    "        continue\n",
    "    if len(df) != sample_date_len : \n",
    "        continue\n",
    "    dates = df.index\n",
    "    df = rename_columns(df)\n",
    "    df = add_all_feature(df)\n",
    "    df_fdm = stock.get_market_fundamental(start_date, end_date, ticker, freq=\"d\")\n",
    "    df_tra_vol_all = stock.get_market_trading_volume_by_date(start_date, end_date, ticker,on='순매수')\n",
    "    df_tra_vol_all = rename_to_english(df_tra_vol_all)\n",
    "    merged_df_1 = df.merge(df_fdm, left_index=True, right_index=True, how='outer')\n",
    "    merged_df_2 = merged_df_1.merge(df_tra_vol_all, left_index=True, right_index=True, how='outer')\n",
    "    df = merged_df_2\n",
    "    \n",
    "    \n",
    "    if len(df.columns) != 42 : \n",
    "        print(f'ticker : {ticker} , name : {name} has no 42 features.')\n",
    "        continue\n",
    "    \n",
    "    # df = df[df.index.year == end_year]    \n",
    "    df_80 = df[-80:].copy()\n",
    "\n",
    "    \n",
    "    # Check for NaN or infinite values in the dataframe\n",
    "    if df_80.isnull().any().any() or np.isinf(df_80.values).any():\n",
    "        print(f'ticker : {ticker} , name : {name} has Nan or Inf value.')\n",
    "        continue\n",
    "\n",
    "    \n",
    "    df_60 = df_80[:60]\n",
    "    \n",
    "    np_60 = np.array(df_60)\n",
    "    \n",
    "    input = normalize_data_per_ticker_one(np_60)\n",
    "    \n",
    "    \n",
    "    \n",
    "    \n",
    "    "
   ]
  }
 ],
 "metadata": {
  "kernelspec": {
   "display_name": "alpha",
   "language": "python",
   "name": "python3"
  },
  "language_info": {
   "codemirror_mode": {
    "name": "ipython",
    "version": 3
   },
   "file_extension": ".py",
   "mimetype": "text/x-python",
   "name": "python",
   "nbconvert_exporter": "python",
   "pygments_lexer": "ipython3",
   "version": "3.9.18"
  }
 },
 "nbformat": 4,
 "nbformat_minor": 2
}
