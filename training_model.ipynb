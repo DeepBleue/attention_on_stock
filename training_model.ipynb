{
 "cells": [
  {
   "cell_type": "code",
   "execution_count": 1,
   "metadata": {},
   "outputs": [],
   "source": [
    "from GPT_model import * \n",
    "import gc\n",
    "import torch \n",
    "import torch.nn as nn\n",
    "import numpy as np\n",
    "from torch.utils.data import TensorDataset, DataLoader\n",
    "from transformers import GPT2Config, GPT2Model\n",
    "from tqdm.notebook import tqdm\n",
    "import torch.nn.functional as F\n",
    "from sklearn.model_selection import train_test_split\n",
    "from torch.optim.lr_scheduler import StepLR"
   ]
  },
  {
   "cell_type": "code",
   "execution_count": 2,
   "metadata": {},
   "outputs": [],
   "source": [
    "years_KOSPI = ['2013','2014','2015','2016','2017','2018','2019','2020','2021']\n",
    "years_KOSDAQ = ['2013','2014','2015','2016','2017','2018','2019','2020','2021']\n",
    "\n",
    "\n",
    "\n",
    "# years_KOSPI = ['2013','2014','2015','2016','2017','2018',]\n",
    "# years_KOSDAQ = ['2013','2014','2015','2016','2017']\n"
   ]
  },
  {
   "cell_type": "code",
   "execution_count": 3,
   "metadata": {},
   "outputs": [
    {
     "name": "stdout",
     "output_type": "stream",
     "text": [
      "---- LOAD KOSPI DATA ----\n"
     ]
    },
    {
     "data": {
      "application/vnd.jupyter.widget-view+json": {
       "model_id": "9e281bfccd954d88ae83fdcdc44a42f1",
       "version_major": 2,
       "version_minor": 0
      },
      "text/plain": [
       "  0%|          | 0/9 [00:00<?, ?it/s]"
      ]
     },
     "metadata": {},
     "output_type": "display_data"
    },
    {
     "name": "stdout",
     "output_type": "stream",
     "text": [
      "---- LOAD KOSDAQ DATA ----\n"
     ]
    },
    {
     "data": {
      "application/vnd.jupyter.widget-view+json": {
       "model_id": "f1d068ddeab34c309bd120eaec0dadcc",
       "version_major": 2,
       "version_minor": 0
      },
      "text/plain": [
       "  0%|          | 0/9 [00:00<?, ?it/s]"
      ]
     },
     "metadata": {},
     "output_type": "display_data"
    },
    {
     "name": "stdout",
     "output_type": "stream",
     "text": [
      "Data all : 458482\n",
      "positive : 229241.0\n",
      "negative : 229241.0\n",
      "---- arange the data ----\n",
      "Data all : 366785\n",
      "positive : 183393.0\n",
      "negative : 183392.0\n"
     ]
    }
   ],
   "source": [
    "train_x_list = []\n",
    "train_y_list = []\n",
    "close2close_list = []\n",
    "\n",
    "threshold = 0.3\n",
    "\n",
    "# Loading KOSPI Data\n",
    "print('---- LOAD KOSPI DATA ----')\n",
    "for year in tqdm(years_KOSPI):\n",
    "    train_x_temp = np.load(f'./data/KOSPI/new_normalize_data3/KOSPI_{year}_train_x_norm_close2close.npy')\n",
    "    train_y_temp = np.load(f'./data/KOSPI/new_normalize_data3/KOSPI_{year}_train_y_norm_close2close.npy')\n",
    "    \n",
    "    train_x_temp = train_x_temp.astype(np.float32)\n",
    "    train_y_temp = train_y_temp.astype(np.float32)\n",
    "    \n",
    "    mask = (train_y_temp != -float('inf')) & (train_y_temp != float('inf'))\n",
    "    train_x_temp = train_x_temp[mask]\n",
    "    train_y_temp = train_y_temp[mask]\n",
    "    \n",
    "    \n",
    "    close2close = train_y_temp\n",
    "    train_y_temp = (train_y_temp > threshold).astype(float)\n",
    "    \n",
    "    train_x_temp, train_y_temp, close2close = undersample_data(train_x_temp, train_y_temp,close2close)\n",
    "    \n",
    "    train_x_list.append(train_x_temp)\n",
    "    train_y_list.append(train_y_temp)\n",
    "    close2close_list.append(close2close)\n",
    "\n",
    "    del train_x_temp, train_y_temp  # Explicitly delete temporary variables\n",
    "    gc.collect()\n",
    "\n",
    "# Loading KOSDAQ Data\n",
    "print('---- LOAD KOSDAQ DATA ----')\n",
    "for year in tqdm(years_KOSDAQ):\n",
    "    train_x_temp = np.load(f'./data/KOSDAQ/new_normalize_data3/KOSDAQ_{year}_train_x_norm_close2close.npy')\n",
    "    train_y_temp = np.load(f'./data/KOSDAQ/new_normalize_data3/KOSDAQ_{year}_train_y_norm_close2close.npy')\n",
    "    \n",
    "    train_x_temp = train_x_temp.astype(np.float32)\n",
    "    train_y_temp = train_y_temp.astype(np.float32)\n",
    "    \n",
    "    mask = (train_y_temp != -float('inf')) & (train_y_temp != float('inf'))\n",
    "    train_x_temp = train_x_temp[mask]\n",
    "    train_y_temp = train_y_temp[mask]\n",
    "\n",
    "    close2close = train_y_temp\n",
    "    train_y_temp = (train_y_temp > threshold).astype(float)\n",
    "    \n",
    "    train_x_temp, train_y_temp, close2close = undersample_data(train_x_temp, train_y_temp,close2close)\n",
    "    \n",
    "    train_x_list.append(train_x_temp)\n",
    "    train_y_list.append(train_y_temp)\n",
    "    close2close_list.append(close2close)\n",
    "\n",
    "    del train_x_temp, train_y_temp  # Explicitly delete temporary variables\n",
    "    gc.collect()\n",
    "\n",
    "# Convert list of arrays to single array\n",
    "train_x_undersampled = np.concatenate(train_x_list, axis=0)\n",
    "train_y_undersampled = np.concatenate(train_y_list, axis=0)\n",
    "cls2cls_undersampled = np.concatenate(close2close_list, axis=0)\n",
    "\n",
    "del train_x_list, train_y_list,close2close_list  # Delete the lists to free up memory\n",
    "gc.collect()\n",
    "\n",
    "\n",
    "print(f'Data all : {len(train_y_undersampled)}')\n",
    "print(f'positive : {train_y_undersampled.sum()}')\n",
    "print(f'negative : {len(train_y_undersampled)-train_y_undersampled.sum()}')\n",
    "\n",
    "\n",
    "seed = 42\n",
    "\n",
    "X_train, X_val, y_train, y_val, real_cl2cl_rate_train, real_cl2cl_rate_val = train_test_split(\n",
    "    train_x_undersampled, \n",
    "    train_y_undersampled, \n",
    "    cls2cls_undersampled,\n",
    "    test_size=0.2, \n",
    "    stratify=train_y_undersampled,\n",
    "    random_state=seed\n",
    ")\n",
    "\n",
    "print('---- arange the data ----')\n",
    "\n",
    "print(f'Data all : {len(y_train)}')\n",
    "print(f'positive : {y_train.sum()}')\n",
    "print(f'negative : {len(y_train)-y_train.sum()}')"
   ]
  },
  {
   "cell_type": "code",
   "execution_count": 4,
   "metadata": {},
   "outputs": [],
   "source": [
    "# Convert the arrays to PyTorch tensors\n",
    "X_train_tensor = torch.tensor(X_train, dtype=torch.float32)\n",
    "y_train_tensor = torch.tensor(y_train, dtype=torch.float32)\n",
    "real_cl2cl_rate_train_tensor = torch.tensor(real_cl2cl_rate_train, dtype=torch.float32)  # Convert real_cl2cl_rate_train to a tensor\n",
    "\n",
    "X_val_tensor = torch.tensor(X_val, dtype=torch.float32)\n",
    "y_val_tensor = torch.tensor(y_val, dtype=torch.float32)\n",
    "real_cl2cl_rate_val_tensor = torch.tensor(real_cl2cl_rate_val, dtype=torch.float32)  # Convert real_cl2cl_rate_val to a tensor\n",
    "\n",
    "# Create TensorDatasets\n",
    "train_dataset = TensorDataset(X_train_tensor, y_train_tensor, real_cl2cl_rate_train_tensor)  # Include real_cl2cl_rate_train_tensor\n",
    "val_dataset = TensorDataset(X_val_tensor, y_val_tensor, real_cl2cl_rate_val_tensor)  # Include real_cl2cl_rate_val_tensor\n",
    "\n",
    "# Create DataLoaders\n",
    "BATCH_SIZE  = 256\n",
    "train_loader = DataLoader(train_dataset, batch_size=BATCH_SIZE, shuffle=True)\n",
    "val_loader = DataLoader(val_dataset, batch_size=BATCH_SIZE, shuffle=False)"
   ]
  },
  {
   "cell_type": "code",
   "execution_count": 5,
   "metadata": {},
   "outputs": [
    {
     "name": "stdout",
     "output_type": "stream",
     "text": [
      "cuda\n"
     ]
    },
    {
     "data": {
      "application/vnd.jupyter.widget-view+json": {
       "model_id": "3fd80710ce6149d7a67bda3baa87987a",
       "version_major": 2,
       "version_minor": 0
      },
      "text/plain": [
       "  0%|          | 0/30 [00:00<?, ?it/s]"
      ]
     },
     "metadata": {},
     "output_type": "display_data"
    },
    {
     "data": {
      "application/vnd.jupyter.widget-view+json": {
       "model_id": "bfb5afd9f388405d9a23f5b0b41ce368",
       "version_major": 2,
       "version_minor": 0
      },
      "text/plain": [
       "  0%|          | 0/1433 [00:00<?, ?it/s]"
      ]
     },
     "metadata": {},
     "output_type": "display_data"
    },
    {
     "name": "stdout",
     "output_type": "stream",
     "text": [
      "Epoch: 1, Batch: 143, lr : 0.001\n",
      "Train Loss: 0.6724, Train Acc: 58.86%, Train profit : 7081.99%\n",
      "Val Loss: 0.6746, Val Acc: 61.87%, Val profit : 7612.64%\n",
      "Epoch: 1, Batch: 286, lr : 0.001\n",
      "Train Loss: 0.6711, Train Acc: 58.63%, Train profit : 8015.47%\n",
      "Val Loss: 0.6697, Val Acc: 61.36%, Val profit : 7611.78%\n",
      "Epoch: 1, Batch: 429, lr : 0.001\n",
      "Train Loss: 0.6708, Train Acc: 59.62%, Train profit : 7336.46%\n",
      "Val Loss: 0.6683, Val Acc: 60.02%, Val profit : 7612.46%\n",
      "Epoch: 1, Batch: 572, lr : 0.001\n",
      "Train Loss: 0.6709, Train Acc: 59.12%, Train profit : 8129.77%\n",
      "Val Loss: 0.6685, Val Acc: 59.76%, Val profit : 7612.12%\n",
      "Epoch: 1, Batch: 715, lr : 0.001\n",
      "Train Loss: 0.6729, Train Acc: 58.87%, Train profit : 7374.32%\n",
      "Val Loss: 0.6720, Val Acc: 61.27%, Val profit : 7610.59%\n",
      "Epoch: 1, Batch: 858, lr : 0.001\n",
      "Train Loss: 0.6697, Train Acc: 58.96%, Train profit : 7161.77%\n",
      "Val Loss: 0.6694, Val Acc: 61.25%, Val profit : 7610.66%\n",
      "Epoch: 1, Batch: 1001, lr : 0.001\n",
      "Train Loss: 0.6698, Train Acc: 58.83%, Train profit : 7622.53%\n",
      "Val Loss: 0.6711, Val Acc: 61.87%, Val profit : 7609.87%\n",
      "Epoch: 1, Batch: 1144, lr : 0.001\n",
      "Train Loss: 0.6699, Train Acc: 59.56%, Train profit : 8166.15%\n",
      "Val Loss: 0.6713, Val Acc: 60.62%, Val profit : 7606.91%\n",
      "Epoch: 1, Batch: 1287, lr : 0.001\n",
      "Train Loss: 0.6712, Train Acc: 58.66%, Train profit : 7134.70%\n",
      "Val Loss: 0.6690, Val Acc: 60.67%, Val profit : 7611.50%\n",
      "Epoch: 1, Batch: 1430, lr : 0.001\n",
      "Train Loss: 0.6690, Train Acc: 59.45%, Train profit : 6882.07%\n",
      "Val Loss: 0.6710, Val Acc: 62.05%, Val profit : 7609.73%\n"
     ]
    },
    {
     "data": {
      "application/vnd.jupyter.widget-view+json": {
       "model_id": "8c061427b6a6470f9d435eb53ed69769",
       "version_major": 2,
       "version_minor": 0
      },
      "text/plain": [
       "  0%|          | 0/1433 [00:00<?, ?it/s]"
      ]
     },
     "metadata": {},
     "output_type": "display_data"
    },
    {
     "name": "stdout",
     "output_type": "stream",
     "text": [
      "Epoch: 2, Batch: 143, lr : 0.001\n",
      "Train Loss: 0.6698, Train Acc: 58.95%, Train profit : 7522.72%\n",
      "Val Loss: 0.6690, Val Acc: 61.35%, Val profit : 7608.91%\n",
      "Epoch: 2, Batch: 286, lr : 0.001\n",
      "Train Loss: 0.6708, Train Acc: 59.57%, Train profit : 7576.47%\n",
      "Val Loss: 0.6797, Val Acc: 62.11%, Val profit : 7608.46%\n",
      "Epoch: 2, Batch: 429, lr : 0.001\n",
      "Train Loss: 0.6707, Train Acc: 59.27%, Train profit : 7132.62%\n",
      "Val Loss: 0.6684, Val Acc: 60.90%, Val profit : 7612.91%\n",
      "Epoch: 2, Batch: 572, lr : 0.001\n",
      "Train Loss: 0.6704, Train Acc: 59.92%, Train profit : 7261.50%\n",
      "Val Loss: 0.6707, Val Acc: 61.82%, Val profit : 7607.82%\n",
      "Epoch: 2, Batch: 715, lr : 0.001\n",
      "Train Loss: 0.6722, Train Acc: 59.08%, Train profit : 7660.05%\n",
      "Val Loss: 0.6691, Val Acc: 61.88%, Val profit : 7610.92%\n",
      "Epoch: 2, Batch: 858, lr : 0.001\n",
      "Train Loss: 0.6689, Train Acc: 59.66%, Train profit : 7214.09%\n",
      "Val Loss: 0.6746, Val Acc: 62.80%, Val profit : 7608.55%\n",
      "Epoch: 2, Batch: 1001, lr : 0.001\n",
      "Train Loss: 0.6699, Train Acc: 60.02%, Train profit : 7692.39%\n",
      "Val Loss: 0.6710, Val Acc: 62.03%, Val profit : 7610.56%\n",
      "Epoch: 2, Batch: 1144, lr : 0.001\n",
      "Train Loss: 0.6693, Train Acc: 59.50%, Train profit : 7564.98%\n",
      "Val Loss: 0.6674, Val Acc: 60.60%, Val profit : 7612.25%\n",
      "Epoch: 2, Batch: 1287, lr : 0.001\n",
      "Train Loss: 0.6689, Train Acc: 59.54%, Train profit : 8073.01%\n",
      "Val Loss: 0.6687, Val Acc: 60.89%, Val profit : 7610.24%\n",
      "Epoch: 2, Batch: 1430, lr : 0.001\n",
      "Train Loss: 0.6685, Train Acc: 59.90%, Train profit : 6826.69%\n",
      "Val Loss: 0.6675, Val Acc: 60.90%, Val profit : 7609.79%\n"
     ]
    },
    {
     "data": {
      "application/vnd.jupyter.widget-view+json": {
       "model_id": "226e33bb3d15490f9aa4063097a5b2d6",
       "version_major": 2,
       "version_minor": 0
      },
      "text/plain": [
       "  0%|          | 0/1433 [00:00<?, ?it/s]"
      ]
     },
     "metadata": {},
     "output_type": "display_data"
    },
    {
     "name": "stdout",
     "output_type": "stream",
     "text": [
      "Epoch: 3, Batch: 143, lr : 0.001\n",
      "Train Loss: 0.6686, Train Acc: 59.53%, Train profit : 7203.70%\n",
      "Val Loss: 0.6710, Val Acc: 62.05%, Val profit : 7610.20%\n",
      "Epoch: 3, Batch: 286, lr : 0.001\n",
      "Train Loss: 0.6685, Train Acc: 59.72%, Train profit : 7527.94%\n",
      "Val Loss: 0.6674, Val Acc: 61.61%, Val profit : 7608.79%\n",
      "Epoch: 3, Batch: 429, lr : 0.001\n",
      "Train Loss: 0.6709, Train Acc: 58.83%, Train profit : 7132.35%\n",
      "Val Loss: 0.6676, Val Acc: 61.09%, Val profit : 7612.20%\n",
      "Epoch: 3, Batch: 572, lr : 0.001\n",
      "Train Loss: 0.6687, Train Acc: 60.54%, Train profit : 6835.59%\n",
      "Val Loss: 0.6679, Val Acc: 61.94%, Val profit : 7610.06%\n",
      "Epoch: 3, Batch: 715, lr : 0.001\n",
      "Train Loss: 0.6688, Train Acc: 59.43%, Train profit : 7591.64%\n",
      "Val Loss: 0.6711, Val Acc: 62.48%, Val profit : 7608.17%\n",
      "Epoch: 3, Batch: 858, lr : 0.001\n",
      "Train Loss: 0.6682, Train Acc: 59.95%, Train profit : 7975.48%\n",
      "Val Loss: 0.6716, Val Acc: 61.73%, Val profit : 7607.14%\n",
      "Epoch: 3, Batch: 1001, lr : 0.001\n",
      "Train Loss: 0.6694, Train Acc: 59.76%, Train profit : 7573.52%\n",
      "Val Loss: 0.6704, Val Acc: 61.82%, Val profit : 7607.97%\n",
      "Epoch: 3, Batch: 1144, lr : 0.001\n",
      "Train Loss: 0.6690, Train Acc: 60.12%, Train profit : 8018.91%\n",
      "Val Loss: 0.6686, Val Acc: 62.14%, Val profit : 7608.16%\n",
      "Epoch: 3, Batch: 1287, lr : 0.001\n",
      "Train Loss: 0.6700, Train Acc: 59.56%, Train profit : 7184.92%\n",
      "Val Loss: 0.6683, Val Acc: 60.82%, Val profit : 7606.76%\n",
      "Epoch: 3, Batch: 1430, lr : 0.001\n",
      "Train Loss: 0.6695, Train Acc: 60.13%, Train profit : 7054.76%\n",
      "Val Loss: 0.6674, Val Acc: 60.98%, Val profit : 7611.19%\n"
     ]
    },
    {
     "data": {
      "application/vnd.jupyter.widget-view+json": {
       "model_id": "0cee3bf123174671ae899ff050092c8f",
       "version_major": 2,
       "version_minor": 0
      },
      "text/plain": [
       "  0%|          | 0/1433 [00:00<?, ?it/s]"
      ]
     },
     "metadata": {},
     "output_type": "display_data"
    },
    {
     "name": "stdout",
     "output_type": "stream",
     "text": [
      "Epoch: 4, Batch: 143, lr : 0.001\n",
      "Train Loss: 0.6699, Train Acc: 59.27%, Train profit : 7333.82%\n",
      "Val Loss: 0.6685, Val Acc: 61.98%, Val profit : 7608.89%\n",
      "Epoch: 4, Batch: 286, lr : 0.001\n",
      "Train Loss: 0.6682, Train Acc: 59.00%, Train profit : 7908.42%\n",
      "Val Loss: 0.6679, Val Acc: 61.45%, Val profit : 7610.13%\n",
      "Epoch: 4, Batch: 429, lr : 0.001\n",
      "Train Loss: 0.6684, Train Acc: 59.72%, Train profit : 8333.94%\n",
      "Val Loss: 0.6676, Val Acc: 61.76%, Val profit : 7608.86%\n",
      "Epoch: 4, Batch: 572, lr : 0.001\n",
      "Train Loss: 0.6695, Train Acc: 60.40%, Train profit : 7734.32%\n",
      "Val Loss: 0.6718, Val Acc: 62.90%, Val profit : 7607.71%\n",
      "Epoch: 4, Batch: 715, lr : 0.001\n",
      "Train Loss: 0.6702, Train Acc: 59.47%, Train profit : 6919.23%\n",
      "Val Loss: 0.6676, Val Acc: 61.39%, Val profit : 7609.83%\n",
      "Epoch: 4, Batch: 858, lr : 0.001\n",
      "Train Loss: 0.6671, Train Acc: 59.24%, Train profit : 7909.82%\n",
      "Val Loss: 0.6694, Val Acc: 62.57%, Val profit : 7606.56%\n",
      "Epoch: 4, Batch: 1001, lr : 0.001\n",
      "Train Loss: 0.6702, Train Acc: 59.59%, Train profit : 7966.24%\n",
      "Val Loss: 0.6676, Val Acc: 61.80%, Val profit : 7608.84%\n",
      "Epoch: 4, Batch: 1144, lr : 0.001\n",
      "Train Loss: 0.6715, Train Acc: 58.92%, Train profit : 7587.14%\n",
      "Val Loss: 0.6657, Val Acc: 60.34%, Val profit : 7612.90%\n",
      "Epoch: 4, Batch: 1287, lr : 0.001\n",
      "Train Loss: 0.6688, Train Acc: 59.34%, Train profit : 8105.02%\n",
      "Val Loss: 0.6687, Val Acc: 62.16%, Val profit : 7608.17%\n",
      "Epoch: 4, Batch: 1430, lr : 0.001\n",
      "Train Loss: 0.6679, Train Acc: 59.76%, Train profit : 7704.54%\n",
      "Val Loss: 0.6665, Val Acc: 61.55%, Val profit : 7608.17%\n"
     ]
    },
    {
     "data": {
      "application/vnd.jupyter.widget-view+json": {
       "model_id": "b70ef864046847a2b87f92a852b0ccdb",
       "version_major": 2,
       "version_minor": 0
      },
      "text/plain": [
       "  0%|          | 0/1433 [00:00<?, ?it/s]"
      ]
     },
     "metadata": {},
     "output_type": "display_data"
    },
    {
     "name": "stdout",
     "output_type": "stream",
     "text": [
      "Epoch: 5, Batch: 143, lr : 0.001\n",
      "Train Loss: 0.6688, Train Acc: 59.95%, Train profit : 8235.38%\n",
      "Val Loss: 0.6691, Val Acc: 62.28%, Val profit : 7610.10%\n",
      "Epoch: 5, Batch: 286, lr : 0.001\n",
      "Train Loss: 0.6709, Train Acc: 59.27%, Train profit : 7705.15%\n",
      "Val Loss: 0.6682, Val Acc: 61.88%, Val profit : 7608.58%\n",
      "Epoch: 5, Batch: 429, lr : 0.001\n",
      "Train Loss: 0.6678, Train Acc: 59.81%, Train profit : 7315.49%\n",
      "Val Loss: 0.6677, Val Acc: 60.79%, Val profit : 7609.65%\n",
      "Epoch: 5, Batch: 572, lr : 0.001\n",
      "Train Loss: 0.6678, Train Acc: 60.43%, Train profit : 7525.66%\n",
      "Val Loss: 0.6680, Val Acc: 62.45%, Val profit : 7608.40%\n",
      "Epoch: 5, Batch: 715, lr : 0.001\n",
      "Train Loss: 0.6697, Train Acc: 59.72%, Train profit : 6990.40%\n",
      "Val Loss: 0.6670, Val Acc: 61.35%, Val profit : 7609.03%\n",
      "Epoch: 5, Batch: 858, lr : 0.001\n",
      "Train Loss: 0.6702, Train Acc: 59.53%, Train profit : 7407.35%\n",
      "Val Loss: 0.6712, Val Acc: 62.47%, Val profit : 7608.35%\n",
      "Epoch: 5, Batch: 1001, lr : 0.001\n",
      "Train Loss: 0.6680, Train Acc: 59.95%, Train profit : 7441.10%\n",
      "Val Loss: 0.6722, Val Acc: 62.41%, Val profit : 7608.98%\n",
      "Epoch: 5, Batch: 1144, lr : 0.001\n",
      "Train Loss: 0.6666, Train Acc: 60.47%, Train profit : 8189.45%\n",
      "Val Loss: 0.6690, Val Acc: 62.46%, Val profit : 7607.79%\n",
      "Epoch: 5, Batch: 1287, lr : 0.001\n",
      "Train Loss: 0.6694, Train Acc: 59.54%, Train profit : 7518.41%\n",
      "Val Loss: 0.6712, Val Acc: 62.74%, Val profit : 7607.84%\n",
      "Epoch: 5, Batch: 1430, lr : 0.001\n",
      "Train Loss: 0.6671, Train Acc: 59.99%, Train profit : 8624.96%\n",
      "Val Loss: 0.6702, Val Acc: 62.54%, Val profit : 7607.41%\n"
     ]
    },
    {
     "data": {
      "application/vnd.jupyter.widget-view+json": {
       "model_id": "f428f7d1d6ea4d02a6de7a18fca3fc79",
       "version_major": 2,
       "version_minor": 0
      },
      "text/plain": [
       "  0%|          | 0/1433 [00:00<?, ?it/s]"
      ]
     },
     "metadata": {},
     "output_type": "display_data"
    },
    {
     "name": "stdout",
     "output_type": "stream",
     "text": [
      "Epoch: 6, Batch: 143, lr : 0.001\n",
      "Train Loss: 0.6681, Train Acc: 59.95%, Train profit : 7681.77%\n",
      "Val Loss: 0.6674, Val Acc: 60.11%, Val profit : 7611.65%\n",
      "Epoch: 6, Batch: 286, lr : 0.001\n",
      "Train Loss: 0.6681, Train Acc: 60.45%, Train profit : 7006.89%\n",
      "Val Loss: 0.6674, Val Acc: 61.10%, Val profit : 7610.11%\n",
      "Epoch: 6, Batch: 429, lr : 0.001\n",
      "Train Loss: 0.6675, Train Acc: 60.36%, Train profit : 6930.75%\n",
      "Val Loss: 0.6679, Val Acc: 60.49%, Val profit : 7609.16%\n",
      "Epoch: 6, Batch: 572, lr : 0.001\n",
      "Train Loss: 0.6684, Train Acc: 59.50%, Train profit : 7511.23%\n",
      "Val Loss: 0.6658, Val Acc: 60.57%, Val profit : 7610.92%\n",
      "Epoch: 6, Batch: 715, lr : 0.001\n",
      "Train Loss: 0.6683, Train Acc: 59.39%, Train profit : 7661.74%\n",
      "Val Loss: 0.6660, Val Acc: 61.23%, Val profit : 7609.91%\n",
      "Epoch: 6, Batch: 858, lr : 0.001\n",
      "Train Loss: 0.6691, Train Acc: 60.18%, Train profit : 7837.50%\n",
      "Val Loss: 0.6678, Val Acc: 61.71%, Val profit : 7605.65%\n",
      "Epoch: 6, Batch: 1001, lr : 0.001\n",
      "Train Loss: 0.6680, Train Acc: 60.29%, Train profit : 6867.16%\n",
      "Val Loss: 0.6677, Val Acc: 61.96%, Val profit : 7606.66%\n",
      "Epoch: 6, Batch: 1144, lr : 0.001\n",
      "Train Loss: 0.6675, Train Acc: 60.44%, Train profit : 7371.35%\n",
      "Val Loss: 0.6680, Val Acc: 61.88%, Val profit : 7608.55%\n",
      "Epoch: 6, Batch: 1287, lr : 0.001\n",
      "Train Loss: 0.6688, Train Acc: 59.82%, Train profit : 7643.66%\n",
      "Val Loss: 0.6685, Val Acc: 61.98%, Val profit : 7609.17%\n",
      "Epoch: 6, Batch: 1430, lr : 0.001\n",
      "Train Loss: 0.6693, Train Acc: 59.97%, Train profit : 7894.47%\n",
      "Val Loss: 0.6684, Val Acc: 61.70%, Val profit : 7609.59%\n"
     ]
    },
    {
     "data": {
      "application/vnd.jupyter.widget-view+json": {
       "model_id": "395ae77eb530435c9bab1c53c60d1b6a",
       "version_major": 2,
       "version_minor": 0
      },
      "text/plain": [
       "  0%|          | 0/1433 [00:00<?, ?it/s]"
      ]
     },
     "metadata": {},
     "output_type": "display_data"
    },
    {
     "name": "stdout",
     "output_type": "stream",
     "text": [
      "Epoch: 7, Batch: 143, lr : 0.001\n",
      "Train Loss: 0.6682, Train Acc: 60.29%, Train profit : 7184.69%\n",
      "Val Loss: 0.6668, Val Acc: 61.73%, Val profit : 7610.07%\n",
      "Epoch: 7, Batch: 286, lr : 0.001\n",
      "Train Loss: 0.6663, Train Acc: 60.39%, Train profit : 7370.80%\n",
      "Val Loss: 0.6736, Val Acc: 62.89%, Val profit : 7607.26%\n",
      "Epoch: 7, Batch: 429, lr : 0.001\n",
      "Train Loss: 0.6698, Train Acc: 59.10%, Train profit : 7787.17%\n",
      "Val Loss: 0.6669, Val Acc: 61.24%, Val profit : 7611.88%\n",
      "Epoch: 7, Batch: 572, lr : 0.001\n",
      "Train Loss: 0.6691, Train Acc: 60.28%, Train profit : 7524.81%\n",
      "Val Loss: 0.6689, Val Acc: 61.67%, Val profit : 7607.27%\n",
      "Epoch: 7, Batch: 715, lr : 0.001\n",
      "Train Loss: 0.6680, Train Acc: 60.14%, Train profit : 7834.06%\n",
      "Val Loss: 0.6697, Val Acc: 62.52%, Val profit : 7608.47%\n",
      "Epoch: 7, Batch: 858, lr : 0.001\n",
      "Train Loss: 0.6684, Train Acc: 60.14%, Train profit : 7793.87%\n",
      "Val Loss: 0.6730, Val Acc: 62.98%, Val profit : 7606.36%\n",
      "Epoch: 7, Batch: 1001, lr : 0.001\n",
      "Train Loss: 0.6674, Train Acc: 60.08%, Train profit : 7544.23%\n",
      "Val Loss: 0.6683, Val Acc: 61.33%, Val profit : 7609.86%\n",
      "Epoch: 7, Batch: 1144, lr : 0.001\n",
      "Train Loss: 0.6685, Train Acc: 60.29%, Train profit : 7646.61%\n",
      "Val Loss: 0.6675, Val Acc: 62.41%, Val profit : 7607.09%\n",
      "Epoch: 7, Batch: 1287, lr : 0.001\n",
      "Train Loss: 0.6678, Train Acc: 59.50%, Train profit : 7921.75%\n",
      "Val Loss: 0.6681, Val Acc: 61.36%, Val profit : 7608.50%\n",
      "Epoch: 7, Batch: 1430, lr : 0.001\n",
      "Train Loss: 0.6686, Train Acc: 59.74%, Train profit : 7561.45%\n",
      "Val Loss: 0.6728, Val Acc: 62.69%, Val profit : 7607.48%\n"
     ]
    },
    {
     "data": {
      "application/vnd.jupyter.widget-view+json": {
       "model_id": "e0eca99279e9476a9d460a389e648820",
       "version_major": 2,
       "version_minor": 0
      },
      "text/plain": [
       "  0%|          | 0/1433 [00:00<?, ?it/s]"
      ]
     },
     "metadata": {},
     "output_type": "display_data"
    },
    {
     "name": "stdout",
     "output_type": "stream",
     "text": [
      "Epoch: 8, Batch: 143, lr : 0.001\n",
      "Train Loss: 0.6677, Train Acc: 60.16%, Train profit : 8010.89%\n",
      "Val Loss: 0.6705, Val Acc: 62.60%, Val profit : 7607.94%\n",
      "Epoch: 8, Batch: 286, lr : 0.001\n",
      "Train Loss: 0.6681, Train Acc: 60.38%, Train profit : 7801.88%\n",
      "Val Loss: 0.6675, Val Acc: 61.50%, Val profit : 7610.47%\n",
      "Epoch: 8, Batch: 429, lr : 0.001\n",
      "Train Loss: 0.6701, Train Acc: 59.44%, Train profit : 7776.11%\n",
      "Val Loss: 0.6687, Val Acc: 62.13%, Val profit : 7609.58%\n",
      "Epoch: 8, Batch: 572, lr : 0.001\n",
      "Train Loss: 0.6672, Train Acc: 60.46%, Train profit : 7620.91%\n",
      "Val Loss: 0.6689, Val Acc: 62.64%, Val profit : 7608.66%\n",
      "Epoch: 8, Batch: 715, lr : 0.001\n",
      "Train Loss: 0.6671, Train Acc: 60.14%, Train profit : 7074.02%\n",
      "Val Loss: 0.6695, Val Acc: 62.56%, Val profit : 7605.97%\n",
      "Epoch: 8, Batch: 858, lr : 0.001\n",
      "Train Loss: 0.6685, Train Acc: 59.67%, Train profit : 7065.39%\n",
      "Val Loss: 0.6690, Val Acc: 62.40%, Val profit : 7609.10%\n",
      "Epoch: 8, Batch: 1001, lr : 0.001\n",
      "Train Loss: 0.6670, Train Acc: 60.82%, Train profit : 6674.29%\n",
      "Val Loss: 0.6698, Val Acc: 62.54%, Val profit : 7607.31%\n",
      "Epoch: 8, Batch: 1144, lr : 0.001\n",
      "Train Loss: 0.6689, Train Acc: 60.01%, Train profit : 8166.89%\n",
      "Val Loss: 0.6691, Val Acc: 62.29%, Val profit : 7608.03%\n",
      "Epoch: 8, Batch: 1287, lr : 0.001\n",
      "Train Loss: 0.6697, Train Acc: 59.90%, Train profit : 8489.47%\n",
      "Val Loss: 0.6669, Val Acc: 61.28%, Val profit : 7609.24%\n",
      "Epoch: 8, Batch: 1430, lr : 0.001\n",
      "Train Loss: 0.6686, Train Acc: 59.16%, Train profit : 7766.27%\n",
      "Val Loss: 0.6675, Val Acc: 62.37%, Val profit : 7609.53%\n"
     ]
    },
    {
     "data": {
      "application/vnd.jupyter.widget-view+json": {
       "model_id": "eaac0065b05d4110b8578f3e57d60f89",
       "version_major": 2,
       "version_minor": 0
      },
      "text/plain": [
       "  0%|          | 0/1433 [00:00<?, ?it/s]"
      ]
     },
     "metadata": {},
     "output_type": "display_data"
    },
    {
     "name": "stdout",
     "output_type": "stream",
     "text": [
      "Epoch: 9, Batch: 143, lr : 0.001\n",
      "Train Loss: 0.6666, Train Acc: 60.73%, Train profit : 7457.25%\n",
      "Val Loss: 0.6667, Val Acc: 61.70%, Val profit : 7607.58%\n",
      "Epoch: 9, Batch: 286, lr : 0.001\n",
      "Train Loss: 0.6679, Train Acc: 60.58%, Train profit : 7855.38%\n",
      "Val Loss: 0.6671, Val Acc: 62.07%, Val profit : 7610.40%\n",
      "Epoch: 9, Batch: 429, lr : 0.001\n",
      "Train Loss: 0.6672, Train Acc: 60.04%, Train profit : 8138.04%\n",
      "Val Loss: 0.6667, Val Acc: 60.89%, Val profit : 7611.66%\n",
      "Epoch: 9, Batch: 572, lr : 0.001\n",
      "Train Loss: 0.6692, Train Acc: 59.81%, Train profit : 7457.36%\n",
      "Val Loss: 0.6655, Val Acc: 60.72%, Val profit : 7614.70%\n",
      "Epoch: 9, Batch: 715, lr : 0.001\n",
      "Train Loss: 0.6676, Train Acc: 60.67%, Train profit : 7252.91%\n",
      "Val Loss: 0.6679, Val Acc: 62.12%, Val profit : 7609.01%\n",
      "Epoch: 9, Batch: 858, lr : 0.001\n",
      "Train Loss: 0.6691, Train Acc: 59.63%, Train profit : 7495.83%\n",
      "Val Loss: 0.6690, Val Acc: 62.21%, Val profit : 7608.33%\n",
      "Epoch: 9, Batch: 1001, lr : 0.001\n",
      "Train Loss: 0.6680, Train Acc: 59.87%, Train profit : 6947.75%\n",
      "Val Loss: 0.6677, Val Acc: 61.43%, Val profit : 7607.28%\n",
      "Epoch: 9, Batch: 1144, lr : 0.001\n",
      "Train Loss: 0.6659, Train Acc: 60.61%, Train profit : 7601.61%\n",
      "Val Loss: 0.6718, Val Acc: 63.04%, Val profit : 7610.70%\n",
      "Epoch: 9, Batch: 1287, lr : 0.001\n",
      "Train Loss: 0.6680, Train Acc: 60.07%, Train profit : 7085.86%\n",
      "Val Loss: 0.6659, Val Acc: 60.53%, Val profit : 7610.11%\n",
      "Epoch: 9, Batch: 1430, lr : 0.001\n",
      "Train Loss: 0.6684, Train Acc: 59.78%, Train profit : 7772.49%\n",
      "Val Loss: 0.6681, Val Acc: 61.84%, Val profit : 7609.28%\n"
     ]
    },
    {
     "data": {
      "application/vnd.jupyter.widget-view+json": {
       "model_id": "39c9d63883974b2aae25c497fcaa78a3",
       "version_major": 2,
       "version_minor": 0
      },
      "text/plain": [
       "  0%|          | 0/1433 [00:00<?, ?it/s]"
      ]
     },
     "metadata": {},
     "output_type": "display_data"
    },
    {
     "name": "stdout",
     "output_type": "stream",
     "text": [
      "Epoch: 10, Batch: 143, lr : 0.001\n",
      "Train Loss: 0.6695, Train Acc: 60.16%, Train profit : 8122.79%\n",
      "Val Loss: 0.6685, Val Acc: 62.49%, Val profit : 7609.35%\n",
      "Epoch: 10, Batch: 286, lr : 0.001\n",
      "Train Loss: 0.6676, Train Acc: 60.06%, Train profit : 6091.55%\n",
      "Val Loss: 0.6695, Val Acc: 62.56%, Val profit : 7606.47%\n",
      "Epoch: 10, Batch: 429, lr : 0.001\n",
      "Train Loss: 0.6691, Train Acc: 59.81%, Train profit : 7193.90%\n",
      "Val Loss: 0.6663, Val Acc: 61.96%, Val profit : 7608.44%\n",
      "Epoch: 10, Batch: 572, lr : 0.001\n",
      "Train Loss: 0.6673, Train Acc: 59.97%, Train profit : 7571.77%\n",
      "Val Loss: 0.6665, Val Acc: 61.83%, Val profit : 7611.53%\n",
      "Epoch: 10, Batch: 715, lr : 0.001\n",
      "Train Loss: 0.6674, Train Acc: 59.94%, Train profit : 8348.86%\n",
      "Val Loss: 0.6696, Val Acc: 61.15%, Val profit : 7605.77%\n",
      "Epoch: 10, Batch: 858, lr : 0.001\n",
      "Train Loss: 0.6695, Train Acc: 59.93%, Train profit : 8338.26%\n",
      "Val Loss: 0.6663, Val Acc: 62.07%, Val profit : 7610.20%\n",
      "Epoch: 10, Batch: 1001, lr : 0.001\n",
      "Train Loss: 0.6663, Train Acc: 60.57%, Train profit : 7854.53%\n",
      "Val Loss: 0.6667, Val Acc: 62.24%, Val profit : 7608.72%\n",
      "Epoch: 10, Batch: 1144, lr : 0.001\n",
      "Train Loss: 0.6665, Train Acc: 60.69%, Train profit : 8184.61%\n",
      "Val Loss: 0.6661, Val Acc: 61.42%, Val profit : 7612.11%\n",
      "Epoch: 10, Batch: 1287, lr : 0.001\n",
      "Train Loss: 0.6695, Train Acc: 59.91%, Train profit : 8205.56%\n",
      "Val Loss: 0.6670, Val Acc: 60.90%, Val profit : 7612.14%\n",
      "Epoch: 10, Batch: 1430, lr : 0.001\n",
      "Train Loss: 0.6684, Train Acc: 59.89%, Train profit : 6988.84%\n",
      "Val Loss: 0.6688, Val Acc: 61.72%, Val profit : 7610.87%\n"
     ]
    },
    {
     "data": {
      "application/vnd.jupyter.widget-view+json": {
       "model_id": "97c8beeee4ba4410ac1cb37bb5897327",
       "version_major": 2,
       "version_minor": 0
      },
      "text/plain": [
       "  0%|          | 0/1433 [00:00<?, ?it/s]"
      ]
     },
     "metadata": {},
     "output_type": "display_data"
    },
    {
     "name": "stdout",
     "output_type": "stream",
     "text": [
      "Epoch: 11, Batch: 143, lr : 0.0008\n",
      "Train Loss: 0.6663, Train Acc: 60.58%, Train profit : 7027.10%\n",
      "Val Loss: 0.6690, Val Acc: 62.73%, Val profit : 7611.09%\n",
      "Epoch: 11, Batch: 286, lr : 0.0008\n",
      "Train Loss: 0.6683, Train Acc: 60.20%, Train profit : 8018.27%\n",
      "Val Loss: 0.6672, Val Acc: 62.56%, Val profit : 7608.67%\n",
      "Epoch: 11, Batch: 429, lr : 0.0008\n",
      "Train Loss: 0.6676, Train Acc: 60.39%, Train profit : 7534.09%\n",
      "Val Loss: 0.6669, Val Acc: 62.21%, Val profit : 7608.74%\n",
      "Epoch: 11, Batch: 572, lr : 0.0008\n",
      "Train Loss: 0.6677, Train Acc: 59.47%, Train profit : 6994.60%\n",
      "Val Loss: 0.6680, Val Acc: 62.57%, Val profit : 7607.90%\n",
      "Epoch: 11, Batch: 715, lr : 0.0008\n",
      "Train Loss: 0.6652, Train Acc: 60.78%, Train profit : 7672.19%\n",
      "Val Loss: 0.6669, Val Acc: 61.59%, Val profit : 7607.88%\n",
      "Epoch: 11, Batch: 858, lr : 0.0008\n",
      "Train Loss: 0.6674, Train Acc: 60.11%, Train profit : 9008.66%\n",
      "Val Loss: 0.6663, Val Acc: 61.42%, Val profit : 7608.73%\n",
      "Epoch: 11, Batch: 1001, lr : 0.0008\n",
      "Train Loss: 0.6679, Train Acc: 60.18%, Train profit : 7226.65%\n",
      "Val Loss: 0.6669, Val Acc: 61.05%, Val profit : 7608.55%\n",
      "Epoch: 11, Batch: 1144, lr : 0.0008\n",
      "Train Loss: 0.6681, Train Acc: 60.39%, Train profit : 7647.28%\n",
      "Val Loss: 0.6701, Val Acc: 62.72%, Val profit : 7608.27%\n",
      "Epoch: 11, Batch: 1287, lr : 0.0008\n",
      "Train Loss: 0.6676, Train Acc: 60.52%, Train profit : 7743.78%\n",
      "Val Loss: 0.6674, Val Acc: 61.67%, Val profit : 7610.26%\n",
      "Epoch: 11, Batch: 1430, lr : 0.0008\n",
      "Train Loss: 0.6658, Train Acc: 60.42%, Train profit : 8107.35%\n",
      "Val Loss: 0.6660, Val Acc: 62.03%, Val profit : 7610.27%\n"
     ]
    },
    {
     "data": {
      "application/vnd.jupyter.widget-view+json": {
       "model_id": "e0a061850fea4e8094479b577dcf0792",
       "version_major": 2,
       "version_minor": 0
      },
      "text/plain": [
       "  0%|          | 0/1433 [00:00<?, ?it/s]"
      ]
     },
     "metadata": {},
     "output_type": "display_data"
    },
    {
     "name": "stdout",
     "output_type": "stream",
     "text": [
      "Epoch: 12, Batch: 143, lr : 0.0008\n",
      "Train Loss: 0.6668, Train Acc: 60.59%, Train profit : 7469.95%\n",
      "Val Loss: 0.6682, Val Acc: 62.49%, Val profit : 7608.74%\n",
      "Epoch: 12, Batch: 286, lr : 0.0008\n",
      "Train Loss: 0.6692, Train Acc: 59.96%, Train profit : 7109.08%\n",
      "Val Loss: 0.6675, Val Acc: 62.60%, Val profit : 7610.12%\n",
      "Epoch: 12, Batch: 429, lr : 0.0008\n",
      "Train Loss: 0.6666, Train Acc: 60.49%, Train profit : 7439.82%\n",
      "Val Loss: 0.6694, Val Acc: 62.39%, Val profit : 7609.64%\n",
      "Epoch: 12, Batch: 572, lr : 0.0008\n",
      "Train Loss: 0.6661, Train Acc: 60.55%, Train profit : 7813.02%\n",
      "Val Loss: 0.6685, Val Acc: 62.60%, Val profit : 7609.87%\n",
      "Epoch: 12, Batch: 715, lr : 0.0008\n",
      "Train Loss: 0.6672, Train Acc: 60.64%, Train profit : 7165.65%\n",
      "Val Loss: 0.6672, Val Acc: 61.86%, Val profit : 7608.39%\n",
      "Epoch: 12, Batch: 858, lr : 0.0008\n",
      "Train Loss: 0.6670, Train Acc: 60.16%, Train profit : 7269.08%\n",
      "Val Loss: 0.6655, Val Acc: 61.71%, Val profit : 7610.80%\n",
      "Epoch: 12, Batch: 1001, lr : 0.0008\n",
      "Train Loss: 0.6669, Train Acc: 60.21%, Train profit : 7753.88%\n",
      "Val Loss: 0.6666, Val Acc: 62.42%, Val profit : 7609.35%\n",
      "Epoch: 12, Batch: 1144, lr : 0.0008\n",
      "Train Loss: 0.6668, Train Acc: 59.92%, Train profit : 7186.59%\n",
      "Val Loss: 0.6734, Val Acc: 63.10%, Val profit : 7607.86%\n",
      "Epoch: 12, Batch: 1287, lr : 0.0008\n",
      "Train Loss: 0.6663, Train Acc: 60.35%, Train profit : 7924.96%\n",
      "Val Loss: 0.6683, Val Acc: 62.56%, Val profit : 7608.12%\n",
      "Epoch: 12, Batch: 1430, lr : 0.0008\n",
      "Train Loss: 0.6684, Train Acc: 60.71%, Train profit : 7391.63%\n",
      "Val Loss: 0.6667, Val Acc: 61.60%, Val profit : 7608.91%\n"
     ]
    },
    {
     "data": {
      "application/vnd.jupyter.widget-view+json": {
       "model_id": "6f04890b5e2340cea0addc7b270894fb",
       "version_major": 2,
       "version_minor": 0
      },
      "text/plain": [
       "  0%|          | 0/1433 [00:00<?, ?it/s]"
      ]
     },
     "metadata": {},
     "output_type": "display_data"
    },
    {
     "name": "stdout",
     "output_type": "stream",
     "text": [
      "Epoch: 13, Batch: 143, lr : 0.0008\n",
      "Train Loss: 0.6671, Train Acc: 60.41%, Train profit : 7447.87%\n",
      "Val Loss: 0.6697, Val Acc: 62.58%, Val profit : 7608.33%\n",
      "Epoch: 13, Batch: 286, lr : 0.0008\n",
      "Train Loss: 0.6675, Train Acc: 59.95%, Train profit : 7597.06%\n",
      "Val Loss: 0.6678, Val Acc: 61.81%, Val profit : 7608.37%\n",
      "Epoch: 13, Batch: 429, lr : 0.0008\n",
      "Train Loss: 0.6667, Train Acc: 59.76%, Train profit : 8173.93%\n",
      "Val Loss: 0.6661, Val Acc: 62.50%, Val profit : 7609.52%\n",
      "Epoch: 13, Batch: 572, lr : 0.0008\n",
      "Train Loss: 0.6671, Train Acc: 60.53%, Train profit : 7389.93%\n",
      "Val Loss: 0.6672, Val Acc: 62.23%, Val profit : 7608.92%\n",
      "Epoch: 13, Batch: 715, lr : 0.0008\n",
      "Train Loss: 0.6652, Train Acc: 60.64%, Train profit : 6699.41%\n",
      "Val Loss: 0.6668, Val Acc: 62.53%, Val profit : 7607.49%\n",
      "Epoch: 13, Batch: 858, lr : 0.0008\n",
      "Train Loss: 0.6686, Train Acc: 59.46%, Train profit : 7436.99%\n",
      "Val Loss: 0.6665, Val Acc: 61.67%, Val profit : 7611.58%\n",
      "Epoch: 13, Batch: 1001, lr : 0.0008\n",
      "Train Loss: 0.6666, Train Acc: 60.83%, Train profit : 7772.53%\n",
      "Val Loss: 0.6671, Val Acc: 62.16%, Val profit : 7607.71%\n",
      "Epoch: 13, Batch: 1144, lr : 0.0008\n",
      "Train Loss: 0.6685, Train Acc: 60.21%, Train profit : 7715.73%\n",
      "Val Loss: 0.6656, Val Acc: 61.87%, Val profit : 7608.24%\n",
      "Epoch: 13, Batch: 1287, lr : 0.0008\n",
      "Train Loss: 0.6686, Train Acc: 60.28%, Train profit : 7843.82%\n",
      "Val Loss: 0.6678, Val Acc: 62.22%, Val profit : 7607.15%\n",
      "Epoch: 13, Batch: 1430, lr : 0.0008\n",
      "Train Loss: 0.6669, Train Acc: 59.97%, Train profit : 6812.15%\n",
      "Val Loss: 0.6659, Val Acc: 62.28%, Val profit : 7607.44%\n"
     ]
    },
    {
     "data": {
      "application/vnd.jupyter.widget-view+json": {
       "model_id": "2b7978cc94a046c7b501b73b215e29a1",
       "version_major": 2,
       "version_minor": 0
      },
      "text/plain": [
       "  0%|          | 0/1433 [00:00<?, ?it/s]"
      ]
     },
     "metadata": {},
     "output_type": "display_data"
    },
    {
     "name": "stdout",
     "output_type": "stream",
     "text": [
      "Epoch: 14, Batch: 143, lr : 0.0008\n",
      "Train Loss: 0.6679, Train Acc: 60.04%, Train profit : 7567.89%\n",
      "Val Loss: 0.6661, Val Acc: 62.20%, Val profit : 7609.63%\n",
      "Epoch: 14, Batch: 286, lr : 0.0008\n",
      "Train Loss: 0.6671, Train Acc: 60.90%, Train profit : 7301.91%\n",
      "Val Loss: 0.6679, Val Acc: 62.54%, Val profit : 7607.49%\n",
      "Epoch: 14, Batch: 429, lr : 0.0008\n",
      "Train Loss: 0.6669, Train Acc: 60.18%, Train profit : 7886.74%\n",
      "Val Loss: 0.6660, Val Acc: 62.41%, Val profit : 7607.73%\n",
      "Epoch: 14, Batch: 572, lr : 0.0008\n",
      "Train Loss: 0.6666, Train Acc: 60.40%, Train profit : 7782.29%\n",
      "Val Loss: 0.6677, Val Acc: 62.85%, Val profit : 7606.78%\n",
      "Epoch: 14, Batch: 715, lr : 0.0008\n",
      "Train Loss: 0.6652, Train Acc: 60.82%, Train profit : 7420.56%\n",
      "Val Loss: 0.6720, Val Acc: 63.67%, Val profit : 7606.72%\n",
      "Epoch: 14, Batch: 858, lr : 0.0008\n",
      "Train Loss: 0.6674, Train Acc: 60.65%, Train profit : 7781.33%\n",
      "Val Loss: 0.6662, Val Acc: 62.57%, Val profit : 7608.13%\n",
      "Epoch: 14, Batch: 1001, lr : 0.0008\n",
      "Train Loss: 0.6667, Train Acc: 59.65%, Train profit : 7895.63%\n",
      "Val Loss: 0.6665, Val Acc: 61.61%, Val profit : 7609.23%\n",
      "Epoch: 14, Batch: 1144, lr : 0.0008\n",
      "Train Loss: 0.6672, Train Acc: 60.57%, Train profit : 7492.49%\n",
      "Val Loss: 0.6700, Val Acc: 62.99%, Val profit : 7605.22%\n",
      "Epoch: 14, Batch: 1287, lr : 0.0008\n",
      "Train Loss: 0.6685, Train Acc: 60.30%, Train profit : 7290.51%\n",
      "Val Loss: 0.6670, Val Acc: 61.40%, Val profit : 7608.77%\n",
      "Epoch: 14, Batch: 1430, lr : 0.0008\n",
      "Train Loss: 0.6678, Train Acc: 60.42%, Train profit : 7203.13%\n",
      "Val Loss: 0.6676, Val Acc: 62.36%, Val profit : 7608.82%\n"
     ]
    },
    {
     "data": {
      "application/vnd.jupyter.widget-view+json": {
       "model_id": "8fbca4aafccc4f02a5d942ee105741a8",
       "version_major": 2,
       "version_minor": 0
      },
      "text/plain": [
       "  0%|          | 0/1433 [00:00<?, ?it/s]"
      ]
     },
     "metadata": {},
     "output_type": "display_data"
    },
    {
     "name": "stdout",
     "output_type": "stream",
     "text": [
      "Epoch: 15, Batch: 143, lr : 0.0008\n",
      "Train Loss: 0.6670, Train Acc: 60.12%, Train profit : 8022.96%\n",
      "Val Loss: 0.6692, Val Acc: 62.49%, Val profit : 7608.75%\n",
      "Epoch: 15, Batch: 286, lr : 0.0008\n",
      "Train Loss: 0.6667, Train Acc: 59.89%, Train profit : 8050.79%\n",
      "Val Loss: 0.6691, Val Acc: 62.88%, Val profit : 7608.64%\n",
      "Epoch: 15, Batch: 429, lr : 0.0008\n",
      "Train Loss: 0.6662, Train Acc: 60.83%, Train profit : 7539.96%\n",
      "Val Loss: 0.6690, Val Acc: 61.92%, Val profit : 7608.62%\n",
      "Epoch: 15, Batch: 572, lr : 0.0008\n",
      "Train Loss: 0.6678, Train Acc: 60.18%, Train profit : 7330.85%\n",
      "Val Loss: 0.6691, Val Acc: 62.81%, Val profit : 7608.43%\n",
      "Epoch: 15, Batch: 715, lr : 0.0008\n",
      "Train Loss: 0.6675, Train Acc: 60.29%, Train profit : 8550.14%\n",
      "Val Loss: 0.6687, Val Acc: 62.05%, Val profit : 7606.95%\n",
      "Epoch: 15, Batch: 858, lr : 0.0008\n",
      "Train Loss: 0.6659, Train Acc: 60.93%, Train profit : 7493.95%\n",
      "Val Loss: 0.6678, Val Acc: 61.72%, Val profit : 7610.96%\n",
      "Epoch: 15, Batch: 1001, lr : 0.0008\n",
      "Train Loss: 0.6677, Train Acc: 60.20%, Train profit : 8361.46%\n",
      "Val Loss: 0.6676, Val Acc: 63.06%, Val profit : 7609.72%\n",
      "Epoch: 15, Batch: 1144, lr : 0.0008\n",
      "Train Loss: 0.6690, Train Acc: 59.49%, Train profit : 7777.02%\n",
      "Val Loss: 0.6658, Val Acc: 60.97%, Val profit : 7610.80%\n",
      "Epoch: 15, Batch: 1287, lr : 0.0008\n",
      "Train Loss: 0.6657, Train Acc: 61.09%, Train profit : 8336.33%\n",
      "Val Loss: 0.6714, Val Acc: 62.98%, Val profit : 7608.20%\n",
      "Epoch: 15, Batch: 1430, lr : 0.0008\n",
      "Train Loss: 0.6673, Train Acc: 60.67%, Train profit : 7927.19%\n",
      "Val Loss: 0.6694, Val Acc: 63.03%, Val profit : 7609.53%\n"
     ]
    },
    {
     "data": {
      "application/vnd.jupyter.widget-view+json": {
       "model_id": "b719344c5629488a822a7274a1459c61",
       "version_major": 2,
       "version_minor": 0
      },
      "text/plain": [
       "  0%|          | 0/1433 [00:00<?, ?it/s]"
      ]
     },
     "metadata": {},
     "output_type": "display_data"
    },
    {
     "name": "stdout",
     "output_type": "stream",
     "text": [
      "Epoch: 16, Batch: 143, lr : 0.0008\n",
      "Train Loss: 0.6657, Train Acc: 61.06%, Train profit : 7746.82%\n",
      "Val Loss: 0.6706, Val Acc: 62.88%, Val profit : 7609.00%\n",
      "Epoch: 16, Batch: 286, lr : 0.0008\n",
      "Train Loss: 0.6685, Train Acc: 60.28%, Train profit : 7672.41%\n",
      "Val Loss: 0.6720, Val Acc: 62.66%, Val profit : 7609.33%\n",
      "Epoch: 16, Batch: 429, lr : 0.0008\n",
      "Train Loss: 0.6681, Train Acc: 59.56%, Train profit : 7522.73%\n",
      "Val Loss: 0.6682, Val Acc: 61.95%, Val profit : 7606.76%\n",
      "Epoch: 16, Batch: 572, lr : 0.0008\n",
      "Train Loss: 0.6656, Train Acc: 60.21%, Train profit : 7691.02%\n",
      "Val Loss: 0.6715, Val Acc: 63.03%, Val profit : 7606.38%\n",
      "Epoch: 16, Batch: 715, lr : 0.0008\n",
      "Train Loss: 0.6679, Train Acc: 60.17%, Train profit : 7494.43%\n",
      "Val Loss: 0.6659, Val Acc: 62.43%, Val profit : 7609.59%\n",
      "Epoch: 16, Batch: 858, lr : 0.0008\n",
      "Train Loss: 0.6672, Train Acc: 60.79%, Train profit : 7494.21%\n",
      "Val Loss: 0.6667, Val Acc: 62.34%, Val profit : 7609.43%\n",
      "Epoch: 16, Batch: 1001, lr : 0.0008\n",
      "Train Loss: 0.6655, Train Acc: 60.62%, Train profit : 8530.97%\n",
      "Val Loss: 0.6737, Val Acc: 63.23%, Val profit : 7607.64%\n",
      "Epoch: 16, Batch: 1144, lr : 0.0008\n",
      "Train Loss: 0.6654, Train Acc: 60.42%, Train profit : 7851.15%\n",
      "Val Loss: 0.6727, Val Acc: 62.92%, Val profit : 7606.55%\n",
      "Epoch: 16, Batch: 1287, lr : 0.0008\n",
      "Train Loss: 0.6684, Train Acc: 59.83%, Train profit : 7895.74%\n",
      "Val Loss: 0.6654, Val Acc: 62.07%, Val profit : 7611.25%\n",
      "Epoch: 16, Batch: 1430, lr : 0.0008\n",
      "Train Loss: 0.6669, Train Acc: 60.10%, Train profit : 7646.64%\n",
      "Val Loss: 0.6664, Val Acc: 61.70%, Val profit : 7610.01%\n"
     ]
    },
    {
     "data": {
      "application/vnd.jupyter.widget-view+json": {
       "model_id": "061f3c1713a4491e8ab22526dc77d607",
       "version_major": 2,
       "version_minor": 0
      },
      "text/plain": [
       "  0%|          | 0/1433 [00:00<?, ?it/s]"
      ]
     },
     "metadata": {},
     "output_type": "display_data"
    },
    {
     "name": "stdout",
     "output_type": "stream",
     "text": [
      "Epoch: 17, Batch: 143, lr : 0.0008\n",
      "Train Loss: 0.6669, Train Acc: 60.66%, Train profit : 7762.24%\n",
      "Val Loss: 0.6663, Val Acc: 62.19%, Val profit : 7609.68%\n",
      "Epoch: 17, Batch: 286, lr : 0.0008\n",
      "Train Loss: 0.6660, Train Acc: 60.65%, Train profit : 7373.92%\n",
      "Val Loss: 0.6692, Val Acc: 62.92%, Val profit : 7610.34%\n",
      "Epoch: 17, Batch: 429, lr : 0.0008\n",
      "Train Loss: 0.6666, Train Acc: 60.40%, Train profit : 7152.16%\n",
      "Val Loss: 0.6671, Val Acc: 62.24%, Val profit : 7608.05%\n",
      "Epoch: 17, Batch: 572, lr : 0.0008\n",
      "Train Loss: 0.6681, Train Acc: 59.71%, Train profit : 7595.94%\n",
      "Val Loss: 0.6666, Val Acc: 62.41%, Val profit : 7608.89%\n",
      "Epoch: 17, Batch: 715, lr : 0.0008\n",
      "Train Loss: 0.6678, Train Acc: 60.13%, Train profit : 7059.02%\n",
      "Val Loss: 0.6660, Val Acc: 62.44%, Val profit : 7609.19%\n",
      "Epoch: 17, Batch: 858, lr : 0.0008\n",
      "Train Loss: 0.6665, Train Acc: 60.38%, Train profit : 7518.26%\n",
      "Val Loss: 0.6668, Val Acc: 62.60%, Val profit : 7609.22%\n",
      "Epoch: 17, Batch: 1001, lr : 0.0008\n",
      "Train Loss: 0.6669, Train Acc: 60.89%, Train profit : 8069.38%\n",
      "Val Loss: 0.6707, Val Acc: 63.09%, Val profit : 7607.64%\n",
      "Epoch: 17, Batch: 1144, lr : 0.0008\n",
      "Train Loss: 0.6657, Train Acc: 60.58%, Train profit : 7810.00%\n",
      "Val Loss: 0.6721, Val Acc: 62.85%, Val profit : 7608.80%\n",
      "Epoch: 17, Batch: 1287, lr : 0.0008\n",
      "Train Loss: 0.6672, Train Acc: 60.59%, Train profit : 7421.44%\n",
      "Val Loss: 0.6672, Val Acc: 62.53%, Val profit : 7607.88%\n",
      "Epoch: 17, Batch: 1430, lr : 0.0008\n",
      "Train Loss: 0.6666, Train Acc: 60.78%, Train profit : 7233.80%\n",
      "Val Loss: 0.6709, Val Acc: 63.10%, Val profit : 7607.26%\n"
     ]
    },
    {
     "data": {
      "application/vnd.jupyter.widget-view+json": {
       "model_id": "a6be269a30004c8b94bf8af9ec7ba0cc",
       "version_major": 2,
       "version_minor": 0
      },
      "text/plain": [
       "  0%|          | 0/1433 [00:00<?, ?it/s]"
      ]
     },
     "metadata": {},
     "output_type": "display_data"
    },
    {
     "name": "stdout",
     "output_type": "stream",
     "text": [
      "Epoch: 18, Batch: 143, lr : 0.0008\n",
      "Train Loss: 0.6668, Train Acc: 60.27%, Train profit : 7788.60%\n",
      "Val Loss: 0.6675, Val Acc: 62.17%, Val profit : 7608.28%\n",
      "Epoch: 18, Batch: 286, lr : 0.0008\n",
      "Train Loss: 0.6658, Train Acc: 60.35%, Train profit : 8336.15%\n",
      "Val Loss: 0.6682, Val Acc: 62.12%, Val profit : 7608.26%\n",
      "Epoch: 18, Batch: 429, lr : 0.0008\n",
      "Train Loss: 0.6663, Train Acc: 60.64%, Train profit : 8115.46%\n",
      "Val Loss: 0.6671, Val Acc: 62.34%, Val profit : 7609.18%\n",
      "Epoch: 18, Batch: 572, lr : 0.0008\n",
      "Train Loss: 0.6659, Train Acc: 60.50%, Train profit : 7310.75%\n",
      "Val Loss: 0.6688, Val Acc: 62.76%, Val profit : 7607.11%\n",
      "Epoch: 18, Batch: 715, lr : 0.0008\n",
      "Train Loss: 0.6683, Train Acc: 60.53%, Train profit : 7345.75%\n",
      "Val Loss: 0.6672, Val Acc: 62.10%, Val profit : 7609.74%\n",
      "Epoch: 18, Batch: 858, lr : 0.0008\n",
      "Train Loss: 0.6666, Train Acc: 60.90%, Train profit : 7062.11%\n",
      "Val Loss: 0.6712, Val Acc: 63.36%, Val profit : 7607.60%\n",
      "Epoch: 18, Batch: 1001, lr : 0.0008\n",
      "Train Loss: 0.6685, Train Acc: 60.05%, Train profit : 7726.62%\n",
      "Val Loss: 0.6657, Val Acc: 62.27%, Val profit : 7607.88%\n",
      "Epoch: 18, Batch: 1144, lr : 0.0008\n",
      "Train Loss: 0.6656, Train Acc: 60.85%, Train profit : 7949.64%\n",
      "Val Loss: 0.6660, Val Acc: 62.21%, Val profit : 7608.85%\n",
      "Epoch: 18, Batch: 1287, lr : 0.0008\n",
      "Train Loss: 0.6670, Train Acc: 60.81%, Train profit : 7692.26%\n",
      "Val Loss: 0.6715, Val Acc: 63.62%, Val profit : 7606.83%\n",
      "Epoch: 18, Batch: 1430, lr : 0.0008\n",
      "Train Loss: 0.6672, Train Acc: 60.44%, Train profit : 7012.62%\n",
      "Val Loss: 0.6662, Val Acc: 62.25%, Val profit : 7607.76%\n"
     ]
    },
    {
     "data": {
      "application/vnd.jupyter.widget-view+json": {
       "model_id": "368635bcc8c34589964410b599973404",
       "version_major": 2,
       "version_minor": 0
      },
      "text/plain": [
       "  0%|          | 0/1433 [00:00<?, ?it/s]"
      ]
     },
     "metadata": {},
     "output_type": "display_data"
    },
    {
     "name": "stdout",
     "output_type": "stream",
     "text": [
      "Epoch: 19, Batch: 143, lr : 0.0008\n",
      "Train Loss: 0.6682, Train Acc: 60.42%, Train profit : 7830.86%\n",
      "Val Loss: 0.6687, Val Acc: 62.83%, Val profit : 7611.03%\n",
      "Epoch: 19, Batch: 286, lr : 0.0008\n",
      "Train Loss: 0.6660, Train Acc: 61.02%, Train profit : 7331.74%\n",
      "Val Loss: 0.6688, Val Acc: 62.67%, Val profit : 7609.54%\n",
      "Epoch: 19, Batch: 429, lr : 0.0008\n",
      "Train Loss: 0.6665, Train Acc: 60.55%, Train profit : 7402.40%\n",
      "Val Loss: 0.6662, Val Acc: 62.47%, Val profit : 7607.36%\n",
      "Epoch: 19, Batch: 572, lr : 0.0008\n",
      "Train Loss: 0.6661, Train Acc: 61.03%, Train profit : 7462.01%\n",
      "Val Loss: 0.6655, Val Acc: 62.22%, Val profit : 7609.66%\n",
      "Epoch: 19, Batch: 715, lr : 0.0008\n",
      "Train Loss: 0.6639, Train Acc: 61.13%, Train profit : 7522.61%\n",
      "Val Loss: 0.6705, Val Acc: 63.41%, Val profit : 7607.68%\n",
      "Epoch: 19, Batch: 858, lr : 0.0008\n",
      "Train Loss: 0.6680, Train Acc: 60.10%, Train profit : 7480.24%\n",
      "Val Loss: 0.6688, Val Acc: 62.66%, Val profit : 7606.73%\n",
      "Epoch: 19, Batch: 1001, lr : 0.0008\n",
      "Train Loss: 0.6659, Train Acc: 60.86%, Train profit : 7681.84%\n",
      "Val Loss: 0.6681, Val Acc: 62.37%, Val profit : 7609.57%\n",
      "Epoch: 19, Batch: 1144, lr : 0.0008\n",
      "Train Loss: 0.6657, Train Acc: 60.95%, Train profit : 8702.18%\n",
      "Val Loss: 0.6681, Val Acc: 62.37%, Val profit : 7607.72%\n",
      "Epoch: 19, Batch: 1287, lr : 0.0008\n",
      "Train Loss: 0.6669, Train Acc: 60.22%, Train profit : 8051.88%\n",
      "Val Loss: 0.6669, Val Acc: 62.58%, Val profit : 7609.12%\n",
      "Epoch: 19, Batch: 1430, lr : 0.0008\n",
      "Train Loss: 0.6672, Train Acc: 60.36%, Train profit : 7578.34%\n",
      "Val Loss: 0.6669, Val Acc: 62.78%, Val profit : 7610.73%\n"
     ]
    },
    {
     "data": {
      "application/vnd.jupyter.widget-view+json": {
       "model_id": "1734b1852d594a84a1dbcced0f093692",
       "version_major": 2,
       "version_minor": 0
      },
      "text/plain": [
       "  0%|          | 0/1433 [00:00<?, ?it/s]"
      ]
     },
     "metadata": {},
     "output_type": "display_data"
    },
    {
     "name": "stdout",
     "output_type": "stream",
     "text": [
      "Epoch: 20, Batch: 143, lr : 0.0008\n",
      "Train Loss: 0.6661, Train Acc: 60.69%, Train profit : 8487.22%\n",
      "Val Loss: 0.6673, Val Acc: 62.82%, Val profit : 7608.70%\n",
      "Epoch: 20, Batch: 286, lr : 0.0008\n",
      "Train Loss: 0.6666, Train Acc: 60.86%, Train profit : 7251.82%\n",
      "Val Loss: 0.6666, Val Acc: 62.77%, Val profit : 7606.71%\n",
      "Epoch: 20, Batch: 429, lr : 0.0008\n",
      "Train Loss: 0.6662, Train Acc: 60.35%, Train profit : 7534.20%\n",
      "Val Loss: 0.6712, Val Acc: 62.53%, Val profit : 7605.76%\n",
      "Epoch: 20, Batch: 572, lr : 0.0008\n",
      "Train Loss: 0.6665, Train Acc: 60.32%, Train profit : 6790.40%\n",
      "Val Loss: 0.6671, Val Acc: 61.78%, Val profit : 7607.85%\n",
      "Epoch: 20, Batch: 715, lr : 0.0008\n",
      "Train Loss: 0.6668, Train Acc: 60.67%, Train profit : 7813.35%\n",
      "Val Loss: 0.6667, Val Acc: 62.06%, Val profit : 7609.10%\n",
      "Epoch: 20, Batch: 858, lr : 0.0008\n",
      "Train Loss: 0.6672, Train Acc: 60.21%, Train profit : 7730.01%\n",
      "Val Loss: 0.6647, Val Acc: 62.21%, Val profit : 7611.46%\n",
      "Epoch: 20, Batch: 1001, lr : 0.0008\n",
      "Train Loss: 0.6673, Train Acc: 60.71%, Train profit : 7579.34%\n",
      "Val Loss: 0.6667, Val Acc: 62.45%, Val profit : 7609.71%\n",
      "Epoch: 20, Batch: 1144, lr : 0.0008\n",
      "Train Loss: 0.6673, Train Acc: 59.99%, Train profit : 8386.92%\n",
      "Val Loss: 0.6689, Val Acc: 63.40%, Val profit : 7608.44%\n",
      "Epoch: 20, Batch: 1287, lr : 0.0008\n",
      "Train Loss: 0.6659, Train Acc: 60.58%, Train profit : 8516.84%\n",
      "Val Loss: 0.6678, Val Acc: 62.86%, Val profit : 7609.38%\n",
      "Epoch: 20, Batch: 1430, lr : 0.0008\n",
      "Train Loss: 0.6662, Train Acc: 60.13%, Train profit : 7498.74%\n",
      "Val Loss: 0.6659, Val Acc: 62.88%, Val profit : 7608.96%\n"
     ]
    },
    {
     "data": {
      "application/vnd.jupyter.widget-view+json": {
       "model_id": "ba59c9b895174969ad7eac64dec8551f",
       "version_major": 2,
       "version_minor": 0
      },
      "text/plain": [
       "  0%|          | 0/1433 [00:00<?, ?it/s]"
      ]
     },
     "metadata": {},
     "output_type": "display_data"
    },
    {
     "name": "stdout",
     "output_type": "stream",
     "text": [
      "Epoch: 21, Batch: 143, lr : 0.00064\n",
      "Train Loss: 0.6651, Train Acc: 60.69%, Train profit : 7509.69%\n",
      "Val Loss: 0.6674, Val Acc: 62.58%, Val profit : 7608.98%\n",
      "Epoch: 21, Batch: 286, lr : 0.00064\n",
      "Train Loss: 0.6648, Train Acc: 61.28%, Train profit : 7771.57%\n",
      "Val Loss: 0.6665, Val Acc: 61.76%, Val profit : 7607.72%\n",
      "Epoch: 21, Batch: 429, lr : 0.00064\n",
      "Train Loss: 0.6684, Train Acc: 60.52%, Train profit : 7729.34%\n",
      "Val Loss: 0.6666, Val Acc: 63.03%, Val profit : 7609.28%\n",
      "Epoch: 21, Batch: 572, lr : 0.00064\n",
      "Train Loss: 0.6678, Train Acc: 60.34%, Train profit : 7990.97%\n",
      "Val Loss: 0.6666, Val Acc: 62.68%, Val profit : 7610.03%\n",
      "Epoch: 21, Batch: 715, lr : 0.00064\n",
      "Train Loss: 0.6655, Train Acc: 61.14%, Train profit : 7332.55%\n",
      "Val Loss: 0.6676, Val Acc: 62.58%, Val profit : 7606.20%\n",
      "Epoch: 21, Batch: 858, lr : 0.00064\n",
      "Train Loss: 0.6659, Train Acc: 60.31%, Train profit : 7607.20%\n",
      "Val Loss: 0.6684, Val Acc: 62.43%, Val profit : 7608.28%\n",
      "Epoch: 21, Batch: 1001, lr : 0.00064\n",
      "Train Loss: 0.6679, Train Acc: 60.37%, Train profit : 7139.38%\n",
      "Val Loss: 0.6671, Val Acc: 62.35%, Val profit : 7608.07%\n",
      "Epoch: 21, Batch: 1144, lr : 0.00064\n",
      "Train Loss: 0.6658, Train Acc: 60.65%, Train profit : 8653.69%\n",
      "Val Loss: 0.6735, Val Acc: 62.97%, Val profit : 7607.53%\n",
      "Epoch: 21, Batch: 1287, lr : 0.00064\n",
      "Train Loss: 0.6673, Train Acc: 60.57%, Train profit : 8182.46%\n",
      "Val Loss: 0.6673, Val Acc: 62.30%, Val profit : 7607.43%\n",
      "Epoch: 21, Batch: 1430, lr : 0.00064\n",
      "Train Loss: 0.6665, Train Acc: 60.47%, Train profit : 8235.25%\n",
      "Val Loss: 0.6684, Val Acc: 63.17%, Val profit : 7607.76%\n"
     ]
    },
    {
     "data": {
      "application/vnd.jupyter.widget-view+json": {
       "model_id": "ac5086923d5a4ac98d314f7abc10a4b0",
       "version_major": 2,
       "version_minor": 0
      },
      "text/plain": [
       "  0%|          | 0/1433 [00:00<?, ?it/s]"
      ]
     },
     "metadata": {},
     "output_type": "display_data"
    },
    {
     "name": "stdout",
     "output_type": "stream",
     "text": [
      "Epoch: 22, Batch: 143, lr : 0.00064\n",
      "Train Loss: 0.6637, Train Acc: 60.92%, Train profit : 7625.30%\n",
      "Val Loss: 0.6684, Val Acc: 62.88%, Val profit : 7608.62%\n",
      "Epoch: 22, Batch: 286, lr : 0.00064\n",
      "Train Loss: 0.6667, Train Acc: 60.39%, Train profit : 7486.90%\n",
      "Val Loss: 0.6652, Val Acc: 61.80%, Val profit : 7610.48%\n",
      "Epoch: 22, Batch: 429, lr : 0.00064\n",
      "Train Loss: 0.6642, Train Acc: 60.97%, Train profit : 7303.45%\n",
      "Val Loss: 0.6693, Val Acc: 62.53%, Val profit : 7607.36%\n",
      "Epoch: 22, Batch: 572, lr : 0.00064\n",
      "Train Loss: 0.6650, Train Acc: 60.94%, Train profit : 7592.35%\n",
      "Val Loss: 0.6671, Val Acc: 62.95%, Val profit : 7608.85%\n",
      "Epoch: 22, Batch: 715, lr : 0.00064\n",
      "Train Loss: 0.6664, Train Acc: 60.81%, Train profit : 7557.79%\n",
      "Val Loss: 0.6675, Val Acc: 63.05%, Val profit : 7609.33%\n",
      "Epoch: 22, Batch: 858, lr : 0.00064\n",
      "Train Loss: 0.6689, Train Acc: 60.39%, Train profit : 8382.03%\n",
      "Val Loss: 0.6677, Val Acc: 62.64%, Val profit : 7609.96%\n",
      "Epoch: 22, Batch: 1001, lr : 0.00064\n",
      "Train Loss: 0.6672, Train Acc: 60.23%, Train profit : 8010.00%\n",
      "Val Loss: 0.6708, Val Acc: 63.34%, Val profit : 7608.20%\n",
      "Epoch: 22, Batch: 1144, lr : 0.00064\n",
      "Train Loss: 0.6663, Train Acc: 60.63%, Train profit : 8730.35%\n",
      "Val Loss: 0.6649, Val Acc: 61.06%, Val profit : 7608.77%\n",
      "Epoch: 22, Batch: 1287, lr : 0.00064\n",
      "Train Loss: 0.6674, Train Acc: 60.44%, Train profit : 6190.35%\n",
      "Val Loss: 0.6658, Val Acc: 62.35%, Val profit : 7610.62%\n",
      "Epoch: 22, Batch: 1430, lr : 0.00064\n",
      "Train Loss: 0.6675, Train Acc: 61.15%, Train profit : 7029.71%\n",
      "Val Loss: 0.6654, Val Acc: 62.44%, Val profit : 7609.47%\n"
     ]
    },
    {
     "data": {
      "application/vnd.jupyter.widget-view+json": {
       "model_id": "bd3a913437f941c4878beadc596b9121",
       "version_major": 2,
       "version_minor": 0
      },
      "text/plain": [
       "  0%|          | 0/1433 [00:00<?, ?it/s]"
      ]
     },
     "metadata": {},
     "output_type": "display_data"
    },
    {
     "name": "stdout",
     "output_type": "stream",
     "text": [
      "Epoch: 23, Batch: 143, lr : 0.00064\n",
      "Train Loss: 0.6669, Train Acc: 60.47%, Train profit : 6976.05%\n",
      "Val Loss: 0.6651, Val Acc: 62.04%, Val profit : 7609.67%\n",
      "Epoch: 23, Batch: 286, lr : 0.00064\n",
      "Train Loss: 0.6667, Train Acc: 60.96%, Train profit : 7802.14%\n",
      "Val Loss: 0.6685, Val Acc: 62.74%, Val profit : 7606.45%\n",
      "Epoch: 23, Batch: 429, lr : 0.00064\n",
      "Train Loss: 0.6663, Train Acc: 60.95%, Train profit : 7519.47%\n",
      "Val Loss: 0.6693, Val Acc: 63.04%, Val profit : 7608.41%\n",
      "Epoch: 23, Batch: 572, lr : 0.00064\n",
      "Train Loss: 0.6659, Train Acc: 60.79%, Train profit : 7263.12%\n",
      "Val Loss: 0.6666, Val Acc: 62.47%, Val profit : 7607.55%\n",
      "Epoch: 23, Batch: 715, lr : 0.00064\n",
      "Train Loss: 0.6653, Train Acc: 60.91%, Train profit : 8030.89%\n",
      "Val Loss: 0.6664, Val Acc: 62.59%, Val profit : 7608.93%\n",
      "Epoch: 23, Batch: 858, lr : 0.00064\n",
      "Train Loss: 0.6658, Train Acc: 60.70%, Train profit : 7618.03%\n",
      "Val Loss: 0.6686, Val Acc: 63.12%, Val profit : 7608.64%\n",
      "Epoch: 23, Batch: 1001, lr : 0.00064\n",
      "Train Loss: 0.6648, Train Acc: 61.17%, Train profit : 7884.65%\n",
      "Val Loss: 0.6650, Val Acc: 62.19%, Val profit : 7608.65%\n",
      "Epoch: 23, Batch: 1144, lr : 0.00064\n",
      "Train Loss: 0.6664, Train Acc: 60.71%, Train profit : 7703.89%\n",
      "Val Loss: 0.6645, Val Acc: 62.43%, Val profit : 7608.81%\n",
      "Epoch: 23, Batch: 1287, lr : 0.00064\n",
      "Train Loss: 0.6672, Train Acc: 60.93%, Train profit : 7927.52%\n",
      "Val Loss: 0.6704, Val Acc: 63.45%, Val profit : 7607.88%\n",
      "Epoch: 23, Batch: 1430, lr : 0.00064\n",
      "Train Loss: 0.6674, Train Acc: 60.07%, Train profit : 7815.40%\n",
      "Val Loss: 0.6654, Val Acc: 62.48%, Val profit : 7610.89%\n"
     ]
    },
    {
     "data": {
      "application/vnd.jupyter.widget-view+json": {
       "model_id": "8e3a0754bf2b44abaf4b75ec49f676e9",
       "version_major": 2,
       "version_minor": 0
      },
      "text/plain": [
       "  0%|          | 0/1433 [00:00<?, ?it/s]"
      ]
     },
     "metadata": {},
     "output_type": "display_data"
    },
    {
     "name": "stdout",
     "output_type": "stream",
     "text": [
      "Epoch: 24, Batch: 143, lr : 0.00064\n",
      "Train Loss: 0.6643, Train Acc: 60.93%, Train profit : 7920.12%\n",
      "Val Loss: 0.6648, Val Acc: 62.08%, Val profit : 7608.29%\n",
      "Epoch: 24, Batch: 286, lr : 0.00064\n",
      "Train Loss: 0.6638, Train Acc: 60.98%, Train profit : 7308.63%\n",
      "Val Loss: 0.6684, Val Acc: 61.76%, Val profit : 7607.51%\n",
      "Epoch: 24, Batch: 429, lr : 0.00064\n",
      "Train Loss: 0.6683, Train Acc: 60.34%, Train profit : 6649.90%\n",
      "Val Loss: 0.6670, Val Acc: 62.82%, Val profit : 7607.17%\n",
      "Epoch: 24, Batch: 572, lr : 0.00064\n",
      "Train Loss: 0.6669, Train Acc: 60.28%, Train profit : 8098.98%\n",
      "Val Loss: 0.6669, Val Acc: 62.89%, Val profit : 7609.29%\n",
      "Epoch: 24, Batch: 715, lr : 0.00064\n",
      "Train Loss: 0.6668, Train Acc: 60.98%, Train profit : 7831.15%\n",
      "Val Loss: 0.6650, Val Acc: 62.06%, Val profit : 7608.44%\n",
      "Epoch: 24, Batch: 858, lr : 0.00064\n",
      "Train Loss: 0.6658, Train Acc: 60.46%, Train profit : 8589.84%\n",
      "Val Loss: 0.6659, Val Acc: 62.16%, Val profit : 7610.01%\n",
      "Epoch: 24, Batch: 1001, lr : 0.00064\n",
      "Train Loss: 0.6663, Train Acc: 60.78%, Train profit : 7487.71%\n",
      "Val Loss: 0.6663, Val Acc: 62.84%, Val profit : 7609.24%\n",
      "Epoch: 24, Batch: 1144, lr : 0.00064\n",
      "Train Loss: 0.6656, Train Acc: 60.95%, Train profit : 7142.98%\n",
      "Val Loss: 0.6673, Val Acc: 62.71%, Val profit : 7608.68%\n",
      "Epoch: 24, Batch: 1287, lr : 0.00064\n",
      "Train Loss: 0.6667, Train Acc: 60.13%, Train profit : 8251.61%\n",
      "Val Loss: 0.6671, Val Acc: 62.71%, Val profit : 7610.14%\n",
      "Epoch: 24, Batch: 1430, lr : 0.00064\n",
      "Train Loss: 0.6652, Train Acc: 61.21%, Train profit : 8148.50%\n",
      "Val Loss: 0.6661, Val Acc: 62.75%, Val profit : 7609.91%\n"
     ]
    },
    {
     "data": {
      "application/vnd.jupyter.widget-view+json": {
       "model_id": "43630795b8e9403aacdebffdc946fe18",
       "version_major": 2,
       "version_minor": 0
      },
      "text/plain": [
       "  0%|          | 0/1433 [00:00<?, ?it/s]"
      ]
     },
     "metadata": {},
     "output_type": "display_data"
    },
    {
     "name": "stdout",
     "output_type": "stream",
     "text": [
      "Epoch: 25, Batch: 143, lr : 0.00064\n",
      "Train Loss: 0.6656, Train Acc: 60.25%, Train profit : 7544.66%\n",
      "Val Loss: 0.6665, Val Acc: 62.37%, Val profit : 7609.95%\n",
      "Epoch: 25, Batch: 286, lr : 0.00064\n",
      "Train Loss: 0.6673, Train Acc: 60.45%, Train profit : 7381.90%\n",
      "Val Loss: 0.6658, Val Acc: 62.52%, Val profit : 7609.81%\n",
      "Epoch: 25, Batch: 429, lr : 0.00064\n",
      "Train Loss: 0.6654, Train Acc: 60.72%, Train profit : 7229.32%\n",
      "Val Loss: 0.6688, Val Acc: 63.05%, Val profit : 7607.43%\n",
      "Epoch: 25, Batch: 572, lr : 0.00064\n",
      "Train Loss: 0.6657, Train Acc: 60.77%, Train profit : 8019.78%\n",
      "Val Loss: 0.6698, Val Acc: 62.95%, Val profit : 7609.39%\n",
      "Epoch: 25, Batch: 715, lr : 0.00064\n",
      "Train Loss: 0.6651, Train Acc: 60.95%, Train profit : 7852.33%\n",
      "Val Loss: 0.6674, Val Acc: 63.03%, Val profit : 7606.33%\n",
      "Epoch: 25, Batch: 858, lr : 0.00064\n",
      "Train Loss: 0.6664, Train Acc: 60.68%, Train profit : 7736.69%\n",
      "Val Loss: 0.6676, Val Acc: 63.09%, Val profit : 7608.87%\n",
      "Epoch: 25, Batch: 1001, lr : 0.00064\n",
      "Train Loss: 0.6677, Train Acc: 60.60%, Train profit : 8487.01%\n",
      "Val Loss: 0.6710, Val Acc: 63.43%, Val profit : 7607.55%\n",
      "Epoch: 25, Batch: 1144, lr : 0.00064\n",
      "Train Loss: 0.6661, Train Acc: 60.98%, Train profit : 7889.39%\n",
      "Val Loss: 0.6729, Val Acc: 63.66%, Val profit : 7607.95%\n",
      "Epoch: 25, Batch: 1287, lr : 0.00064\n",
      "Train Loss: 0.6659, Train Acc: 61.15%, Train profit : 7367.88%\n",
      "Val Loss: 0.6668, Val Acc: 62.91%, Val profit : 7607.36%\n",
      "Epoch: 25, Batch: 1430, lr : 0.00064\n",
      "Train Loss: 0.6647, Train Acc: 60.71%, Train profit : 8030.36%\n",
      "Val Loss: 0.6676, Val Acc: 62.89%, Val profit : 7608.04%\n"
     ]
    },
    {
     "data": {
      "application/vnd.jupyter.widget-view+json": {
       "model_id": "6062b7cc687042ffb30ef429d88c48d6",
       "version_major": 2,
       "version_minor": 0
      },
      "text/plain": [
       "  0%|          | 0/1433 [00:00<?, ?it/s]"
      ]
     },
     "metadata": {},
     "output_type": "display_data"
    },
    {
     "name": "stdout",
     "output_type": "stream",
     "text": [
      "Epoch: 26, Batch: 143, lr : 0.00064\n",
      "Train Loss: 0.6655, Train Acc: 60.53%, Train profit : 8230.32%\n",
      "Val Loss: 0.6672, Val Acc: 62.62%, Val profit : 7608.78%\n",
      "Epoch: 26, Batch: 286, lr : 0.00064\n",
      "Train Loss: 0.6664, Train Acc: 60.48%, Train profit : 8136.15%\n",
      "Val Loss: 0.6673, Val Acc: 62.68%, Val profit : 7608.86%\n",
      "Epoch: 26, Batch: 429, lr : 0.00064\n",
      "Train Loss: 0.6654, Train Acc: 61.22%, Train profit : 7861.22%\n",
      "Val Loss: 0.6693, Val Acc: 63.02%, Val profit : 7606.79%\n",
      "Epoch: 26, Batch: 572, lr : 0.00064\n",
      "Train Loss: 0.6667, Train Acc: 60.60%, Train profit : 7373.74%\n",
      "Val Loss: 0.6664, Val Acc: 62.60%, Val profit : 7607.24%\n",
      "Epoch: 26, Batch: 715, lr : 0.00064\n",
      "Train Loss: 0.6661, Train Acc: 61.11%, Train profit : 7566.16%\n",
      "Val Loss: 0.6662, Val Acc: 62.74%, Val profit : 7608.38%\n",
      "Epoch: 26, Batch: 858, lr : 0.00064\n",
      "Train Loss: 0.6661, Train Acc: 60.74%, Train profit : 8819.32%\n",
      "Val Loss: 0.6676, Val Acc: 63.21%, Val profit : 7607.36%\n",
      "Epoch: 26, Batch: 1001, lr : 0.00064\n",
      "Train Loss: 0.6673, Train Acc: 60.60%, Train profit : 7965.41%\n",
      "Val Loss: 0.6680, Val Acc: 63.30%, Val profit : 7607.69%\n",
      "Epoch: 26, Batch: 1144, lr : 0.00064\n",
      "Train Loss: 0.6665, Train Acc: 60.47%, Train profit : 7341.06%\n",
      "Val Loss: 0.6663, Val Acc: 62.19%, Val profit : 7608.78%\n",
      "Epoch: 26, Batch: 1287, lr : 0.00064\n",
      "Train Loss: 0.6635, Train Acc: 61.34%, Train profit : 9569.42%\n",
      "Val Loss: 0.6709, Val Acc: 63.46%, Val profit : 7609.16%\n",
      "Epoch: 26, Batch: 1430, lr : 0.00064\n",
      "Train Loss: 0.6655, Train Acc: 60.34%, Train profit : 7422.97%\n",
      "Val Loss: 0.6760, Val Acc: 63.47%, Val profit : 7607.63%\n"
     ]
    },
    {
     "data": {
      "application/vnd.jupyter.widget-view+json": {
       "model_id": "35c884522a834192b3299d798a75c47e",
       "version_major": 2,
       "version_minor": 0
      },
      "text/plain": [
       "  0%|          | 0/1433 [00:00<?, ?it/s]"
      ]
     },
     "metadata": {},
     "output_type": "display_data"
    },
    {
     "name": "stdout",
     "output_type": "stream",
     "text": [
      "Epoch: 27, Batch: 143, lr : 0.00064\n",
      "Train Loss: 0.6650, Train Acc: 60.67%, Train profit : 7312.83%\n",
      "Val Loss: 0.6696, Val Acc: 63.41%, Val profit : 7606.08%\n",
      "Epoch: 27, Batch: 286, lr : 0.00064\n",
      "Train Loss: 0.6665, Train Acc: 60.52%, Train profit : 7863.30%\n",
      "Val Loss: 0.6667, Val Acc: 63.01%, Val profit : 7607.81%\n",
      "Epoch: 27, Batch: 429, lr : 0.00064\n",
      "Train Loss: 0.6665, Train Acc: 60.77%, Train profit : 7267.19%\n",
      "Val Loss: 0.6682, Val Acc: 63.17%, Val profit : 7608.58%\n",
      "Epoch: 27, Batch: 572, lr : 0.00064\n",
      "Train Loss: 0.6659, Train Acc: 61.09%, Train profit : 7734.77%\n",
      "Val Loss: 0.6649, Val Acc: 61.29%, Val profit : 7609.98%\n",
      "Epoch: 27, Batch: 715, lr : 0.00064\n",
      "Train Loss: 0.6657, Train Acc: 60.97%, Train profit : 8601.85%\n",
      "Val Loss: 0.6708, Val Acc: 63.25%, Val profit : 7606.93%\n",
      "Epoch: 27, Batch: 858, lr : 0.00064\n",
      "Train Loss: 0.6669, Train Acc: 60.89%, Train profit : 7517.45%\n",
      "Val Loss: 0.6665, Val Acc: 62.76%, Val profit : 7605.79%\n",
      "Epoch: 27, Batch: 1001, lr : 0.00064\n",
      "Train Loss: 0.6659, Train Acc: 60.77%, Train profit : 7800.46%\n",
      "Val Loss: 0.6694, Val Acc: 63.56%, Val profit : 7608.07%\n",
      "Epoch: 27, Batch: 1144, lr : 0.00064\n",
      "Train Loss: 0.6648, Train Acc: 60.77%, Train profit : 8342.53%\n",
      "Val Loss: 0.6675, Val Acc: 63.30%, Val profit : 7608.39%\n",
      "Epoch: 27, Batch: 1287, lr : 0.00064\n",
      "Train Loss: 0.6649, Train Acc: 61.34%, Train profit : 7373.13%\n",
      "Val Loss: 0.6692, Val Acc: 63.02%, Val profit : 7608.22%\n",
      "Epoch: 27, Batch: 1430, lr : 0.00064\n",
      "Train Loss: 0.6666, Train Acc: 60.59%, Train profit : 7869.16%\n",
      "Val Loss: 0.6672, Val Acc: 62.97%, Val profit : 7607.93%\n"
     ]
    },
    {
     "data": {
      "application/vnd.jupyter.widget-view+json": {
       "model_id": "cae7239069a0472383163fc806ac9198",
       "version_major": 2,
       "version_minor": 0
      },
      "text/plain": [
       "  0%|          | 0/1433 [00:00<?, ?it/s]"
      ]
     },
     "metadata": {},
     "output_type": "display_data"
    },
    {
     "name": "stdout",
     "output_type": "stream",
     "text": [
      "Epoch: 28, Batch: 143, lr : 0.00064\n",
      "Train Loss: 0.6667, Train Acc: 60.99%, Train profit : 7402.82%\n",
      "Val Loss: 0.6670, Val Acc: 63.16%, Val profit : 7608.30%\n",
      "Epoch: 28, Batch: 286, lr : 0.00064\n",
      "Train Loss: 0.6659, Train Acc: 60.68%, Train profit : 8197.89%\n",
      "Val Loss: 0.6664, Val Acc: 62.91%, Val profit : 7608.12%\n",
      "Epoch: 28, Batch: 429, lr : 0.00064\n",
      "Train Loss: 0.6643, Train Acc: 61.04%, Train profit : 7808.13%\n",
      "Val Loss: 0.6667, Val Acc: 63.28%, Val profit : 7609.02%\n",
      "Epoch: 28, Batch: 572, lr : 0.00064\n",
      "Train Loss: 0.6679, Train Acc: 60.04%, Train profit : 8424.90%\n",
      "Val Loss: 0.6654, Val Acc: 62.30%, Val profit : 7608.10%\n",
      "Epoch: 28, Batch: 715, lr : 0.00064\n",
      "Train Loss: 0.6652, Train Acc: 60.96%, Train profit : 7119.38%\n",
      "Val Loss: 0.6667, Val Acc: 63.20%, Val profit : 7608.52%\n",
      "Epoch: 28, Batch: 858, lr : 0.00064\n",
      "Train Loss: 0.6652, Train Acc: 61.06%, Train profit : 7178.89%\n",
      "Val Loss: 0.6663, Val Acc: 63.04%, Val profit : 7608.30%\n",
      "Epoch: 28, Batch: 1001, lr : 0.00064\n",
      "Train Loss: 0.6676, Train Acc: 59.91%, Train profit : 7541.35%\n",
      "Val Loss: 0.6673, Val Acc: 62.47%, Val profit : 7608.87%\n",
      "Epoch: 28, Batch: 1144, lr : 0.00064\n",
      "Train Loss: 0.6653, Train Acc: 60.40%, Train profit : 7744.42%\n",
      "Val Loss: 0.6663, Val Acc: 62.98%, Val profit : 7609.41%\n",
      "Epoch: 28, Batch: 1287, lr : 0.00064\n",
      "Train Loss: 0.6657, Train Acc: 61.29%, Train profit : 7840.01%\n",
      "Val Loss: 0.6660, Val Acc: 62.27%, Val profit : 7606.41%\n",
      "Epoch: 28, Batch: 1430, lr : 0.00064\n",
      "Train Loss: 0.6658, Train Acc: 60.67%, Train profit : 7881.05%\n",
      "Val Loss: 0.6664, Val Acc: 62.69%, Val profit : 7607.75%\n"
     ]
    },
    {
     "data": {
      "application/vnd.jupyter.widget-view+json": {
       "model_id": "85979b144e12403b9df7951b6d974839",
       "version_major": 2,
       "version_minor": 0
      },
      "text/plain": [
       "  0%|          | 0/1433 [00:00<?, ?it/s]"
      ]
     },
     "metadata": {},
     "output_type": "display_data"
    },
    {
     "name": "stdout",
     "output_type": "stream",
     "text": [
      "Epoch: 29, Batch: 143, lr : 0.00064\n",
      "Train Loss: 0.6659, Train Acc: 60.45%, Train profit : 7364.18%\n",
      "Val Loss: 0.6660, Val Acc: 63.12%, Val profit : 7610.09%\n",
      "Epoch: 29, Batch: 286, lr : 0.00064\n",
      "Train Loss: 0.6664, Train Acc: 60.96%, Train profit : 7719.52%\n",
      "Val Loss: 0.6670, Val Acc: 62.91%, Val profit : 7609.62%\n",
      "Epoch: 29, Batch: 429, lr : 0.00064\n",
      "Train Loss: 0.6675, Train Acc: 60.03%, Train profit : 7500.88%\n",
      "Val Loss: 0.6662, Val Acc: 63.27%, Val profit : 7609.78%\n",
      "Epoch: 29, Batch: 572, lr : 0.00064\n",
      "Train Loss: 0.6644, Train Acc: 61.08%, Train profit : 7728.24%\n",
      "Val Loss: 0.6654, Val Acc: 62.08%, Val profit : 7606.74%\n",
      "Epoch: 29, Batch: 715, lr : 0.00064\n",
      "Train Loss: 0.6650, Train Acc: 61.16%, Train profit : 7293.82%\n",
      "Val Loss: 0.6682, Val Acc: 62.50%, Val profit : 7608.81%\n",
      "Epoch: 29, Batch: 858, lr : 0.00064\n",
      "Train Loss: 0.6673, Train Acc: 60.56%, Train profit : 7178.87%\n",
      "Val Loss: 0.6653, Val Acc: 62.70%, Val profit : 7608.04%\n",
      "Epoch: 29, Batch: 1001, lr : 0.00064\n",
      "Train Loss: 0.6643, Train Acc: 60.77%, Train profit : 8441.30%\n",
      "Val Loss: 0.6651, Val Acc: 62.77%, Val profit : 7609.18%\n",
      "Epoch: 29, Batch: 1144, lr : 0.00064\n",
      "Train Loss: 0.6643, Train Acc: 61.12%, Train profit : 6672.47%\n",
      "Val Loss: 0.6653, Val Acc: 62.87%, Val profit : 7608.09%\n",
      "Epoch: 29, Batch: 1287, lr : 0.00064\n",
      "Train Loss: 0.6671, Train Acc: 60.65%, Train profit : 8440.62%\n",
      "Val Loss: 0.6677, Val Acc: 62.95%, Val profit : 7608.41%\n",
      "Epoch: 29, Batch: 1430, lr : 0.00064\n",
      "Train Loss: 0.6653, Train Acc: 60.45%, Train profit : 6744.41%\n",
      "Val Loss: 0.6655, Val Acc: 62.50%, Val profit : 7606.43%\n"
     ]
    },
    {
     "data": {
      "application/vnd.jupyter.widget-view+json": {
       "model_id": "5e1486168758433088cd0741a942829e",
       "version_major": 2,
       "version_minor": 0
      },
      "text/plain": [
       "  0%|          | 0/1433 [00:00<?, ?it/s]"
      ]
     },
     "metadata": {},
     "output_type": "display_data"
    },
    {
     "name": "stdout",
     "output_type": "stream",
     "text": [
      "Epoch: 30, Batch: 143, lr : 0.00064\n",
      "Train Loss: 0.6657, Train Acc: 60.75%, Train profit : 7801.71%\n",
      "Val Loss: 0.6701, Val Acc: 63.48%, Val profit : 7608.63%\n",
      "Epoch: 30, Batch: 286, lr : 0.00064\n",
      "Train Loss: 0.6645, Train Acc: 60.85%, Train profit : 6942.90%\n",
      "Val Loss: 0.6678, Val Acc: 62.77%, Val profit : 7611.59%\n",
      "Epoch: 30, Batch: 429, lr : 0.00064\n",
      "Train Loss: 0.6670, Train Acc: 60.49%, Train profit : 8297.05%\n",
      "Val Loss: 0.6687, Val Acc: 63.40%, Val profit : 7608.33%\n",
      "Epoch: 30, Batch: 572, lr : 0.00064\n",
      "Train Loss: 0.6652, Train Acc: 61.10%, Train profit : 7984.15%\n",
      "Val Loss: 0.6707, Val Acc: 63.12%, Val profit : 7608.88%\n",
      "Epoch: 30, Batch: 715, lr : 0.00064\n",
      "Train Loss: 0.6652, Train Acc: 61.34%, Train profit : 7467.42%\n",
      "Val Loss: 0.6675, Val Acc: 62.68%, Val profit : 7606.31%\n",
      "Epoch: 30, Batch: 858, lr : 0.00064\n",
      "Train Loss: 0.6648, Train Acc: 60.72%, Train profit : 6462.40%\n",
      "Val Loss: 0.6683, Val Acc: 63.57%, Val profit : 7607.95%\n",
      "Epoch: 30, Batch: 1001, lr : 0.00064\n",
      "Train Loss: 0.6670, Train Acc: 60.32%, Train profit : 8156.63%\n",
      "Val Loss: 0.6706, Val Acc: 63.69%, Val profit : 7608.75%\n",
      "Epoch: 30, Batch: 1144, lr : 0.00064\n",
      "Train Loss: 0.6663, Train Acc: 60.94%, Train profit : 7342.40%\n",
      "Val Loss: 0.6651, Val Acc: 62.53%, Val profit : 7608.85%\n",
      "Epoch: 30, Batch: 1287, lr : 0.00064\n",
      "Train Loss: 0.6674, Train Acc: 60.58%, Train profit : 7650.66%\n",
      "Val Loss: 0.6684, Val Acc: 63.18%, Val profit : 7609.61%\n",
      "Epoch: 30, Batch: 1430, lr : 0.00064\n",
      "Train Loss: 0.6645, Train Acc: 60.65%, Train profit : 7664.30%\n",
      "Val Loss: 0.6713, Val Acc: 63.74%, Val profit : 7609.55%\n"
     ]
    }
   ],
   "source": [
    "BALANCE = 100000000\n",
    "device = torch.device(\"cuda\" if torch.cuda.is_available() else \"cpu\")\n",
    "real_cl2cl_rate_train_tensor = torch.tensor(real_cl2cl_rate_train, dtype=torch.float32).to(device)\n",
    "# Define hyperparameters\n",
    "learning_rate = 1e-3\n",
    "num_epochs = 30\n",
    "\n",
    "# Initialize model and optimizer\n",
    "embed_size = 42  # Number of features in your data\n",
    "num_layers = 6  # Number of transformer blocks (this is a hyperparameter, you can adjust it)\n",
    "heads = 6  # Number of attention heads (another hyperparameter)\n",
    "forward_expansion = 1  # Expansion factor for the feed-forward layer\n",
    "max_length = 60  # Your sequence length\n",
    "dropout = 0.2  # Dropout rate\n",
    "\n",
    "model = GPT(\n",
    "    embed_size=embed_size,\n",
    "    num_layers=num_layers,\n",
    "    heads=heads,\n",
    "    forward_expansion=forward_expansion,\n",
    "    max_length=max_length,\n",
    "    dropout=dropout\n",
    "\n",
    ")\n",
    "initialize_weights(model)\n",
    "model.load_state_dict(torch.load('./model/layer6_new/Transformer_layer6_3.pt'))\n",
    "model.to(device)\n",
    "model.pe = model.pe.to(device)\n",
    "optimizer = torch.optim.Adam(\n",
    "    model.parameters(),\n",
    "    lr=learning_rate,\n",
    "    betas=(0.9, 0.999),\n",
    "    eps=1e-8,\n",
    "    weight_decay=1e-5,\n",
    "    amsgrad=True\n",
    ")\n",
    "\n",
    "# optimizer = torch.optim.Adam(model.parameters(), lr=learning_rate)\n",
    "# loss_fn = nn.MSELoss()  # Mean Squared Error Loss for regression tasks\n",
    "# mae_loss = torch.nn.L1Loss()\n",
    "\n",
    "scheduler = StepLR(optimizer, step_size=10, gamma=0.8)\n",
    "criterion = nn.BCEWithLogitsLoss()  # Use this instead of mean squared error.\n",
    "\n",
    "# Move model to GPU if available\n",
    "device = torch.device(\"cuda\" if torch.cuda.is_available() else \"cpu\")\n",
    "print(device)\n",
    "model.to(device)\n",
    "\n",
    "print_interval = len(train_loader) // 10  # Compute the interval for printing\n",
    "\n",
    "for epoch in tqdm(range(num_epochs), total=num_epochs):\n",
    "    \n",
    "    model.train()\n",
    "    running_loss = 0.0\n",
    "    correct_train_predictions = 0  # Track correct predictions for training\n",
    "    # train_average_profit = 0\n",
    "    # total_invested = 0  # Track total invested balance\n",
    "    # total_profit = 0  # Track total profit\n",
    "\n",
    "    for batch_idx, batch in tqdm(enumerate(train_loader), total=len(train_loader)):\n",
    "        total_invested = 0  # Track total invested balance\n",
    "        total_profit = 0  # Track total profit\n",
    "        batch_start = batch_idx * BATCH_SIZE\n",
    "        batch_end = batch_start + BATCH_SIZE\n",
    "        inputs, targets,real_cl2cl_rates  = batch\n",
    "        inputs, targets,real_cl2cl_rates = inputs.to(device), targets.to(device) , real_cl2cl_rates.to(device)\n",
    "        \n",
    "        # smoothed_targets = smooth_binary_labels_torch(targets, epsilon=0.1)\n",
    "        # smoothed_targets = smoothed_targets.to(device)\n",
    "        \n",
    "        optimizer.zero_grad()\n",
    "        outputs = model(inputs)\n",
    "        probabilities = torch.sigmoid(outputs)\n",
    "        predictions = (probabilities > 0.5).float()\n",
    "\n",
    "        # Compute training accuracy\n",
    "        correct_train_predictions += (predictions.squeeze() == targets).sum().item()\n",
    "        \n",
    "        # Predicted investments\n",
    "        threshold = 0.8\n",
    "        invest = probabilities > threshold  # Boolean tensor\n",
    "        invest_amount = torch.where(invest, BALANCE * probabilities, torch.tensor([0.0]).to(device))  # Invest based on confidence\n",
    "        profit = invest_amount * real_cl2cl_rates  # Element-wise multiplication\n",
    "        total_profit += profit.sum().item()  # Sum profit for the batch\n",
    "        total_invested += invest_amount.sum().item() \n",
    "\n",
    "        epsilon = 1e-10\n",
    "        # probabilities = probabilities.clamp(min=epsilon)\n",
    "\n",
    "        loss = criterion(probabilities.view(-1), targets)\n",
    "        loss.backward()\n",
    "        optimizer.step()\n",
    "        running_loss += loss.item()\n",
    "        \n",
    "        # Check if it's time to print\n",
    "        if (batch_idx + 1) % print_interval == 0:\n",
    "            avg_loss = running_loss / print_interval\n",
    "            train_accuracy = correct_train_predictions / (print_interval * train_loader.batch_size)\n",
    "            \n",
    "            # train_profit = train_average_profit / (print_interval * train_loader.batch_size)\n",
    "            if total_invested == 0:\n",
    "                train_average_profit = 0\n",
    "            else:\n",
    "                train_average_profit = ((total_profit - total_invested) / total_invested ) \n",
    "\n",
    "            \n",
    "            # Validation loss and accuracy computation\n",
    "            model.eval()\n",
    "            val_loss = 0.0\n",
    "            correct_val_predictions = 0  # Track correct predictions for validation\n",
    "            val_average_profit = 0\n",
    "            total_invested = 0  # Track total invested balance\n",
    "            total_profit = 0  # Track total profit\n",
    "            with torch.no_grad():\n",
    "                for val_batch in val_loader:\n",
    "                    inputs, targets,real_cl2cl_rates  = val_batch\n",
    "                    inputs, targets,real_cl2cl_rates = inputs.to(device), targets.to(device),real_cl2cl_rates.to(device)\n",
    "                    outputs = model(inputs)\n",
    "                    probabilities = torch.sigmoid(outputs)\n",
    "                    val_predictions = (probabilities > 0.5).float()\n",
    "                    \n",
    "                    invest = probabilities > threshold  # Boolean tensor\n",
    "                    invest_amount = torch.where(invest, BALANCE * probabilities, torch.tensor([0.0]).to(device))  # Invest based on confidence\n",
    "                    profit = invest_amount * real_cl2cl_rates  # Element-wise multiplication\n",
    "                    total_profit += profit.sum().item()  # Sum profit for the batch\n",
    "                    total_invested += invest_amount.sum().item() \n",
    "                    \n",
    "                    # Compute validation accuracy\n",
    "                    correct_val_predictions += (val_predictions.squeeze() == targets).sum().item()\n",
    "                    val_loss += criterion(probabilities.squeeze(1), targets).item()\n",
    "                    \n",
    "            avg_val_loss = val_loss / len(val_loader)\n",
    "            val_accuracy = correct_val_predictions / (len(val_loader) * val_loader.batch_size)\n",
    "            # val_profit = val_average_profit / (len(val_loader) * val_loader.batch_size)\n",
    "            if total_invested == 0:\n",
    "                val_average_profit = 0\n",
    "            else:\n",
    "                val_average_profit = (total_profit - total_invested) / total_invested\n",
    "            model.train()\n",
    "            \n",
    "            current_lr = optimizer.param_groups[0]['lr']\n",
    "\n",
    "            print(f\"Epoch: {epoch + 1}, Batch: {batch_idx + 1}, lr : {current_lr}\")\n",
    "            print(f\"Train Loss: {avg_loss:.4f}, Train Acc: {train_accuracy*100:.2f}%, Train profit : {train_average_profit*100:.2f}%\")\n",
    "            print(f\"Val Loss: {avg_val_loss:.4f}, Val Acc: {val_accuracy*100:.2f}%, Val profit : {val_average_profit*100:.2f}%\")\n",
    "\n",
    "            running_loss = 0.0\n",
    "            correct_train_predictions = 0  # Reset the correct count for training\n",
    "            train_average_profit = 0\n",
    "    scheduler.step()\n"
   ]
  },
  {
   "cell_type": "code",
   "execution_count": 6,
   "metadata": {},
   "outputs": [],
   "source": [
    "torch.save(model.state_dict(), './model/layer6_new/Transformer_layer6_4.pt')"
   ]
  }
 ],
 "metadata": {
  "kernelspec": {
   "display_name": "alpha",
   "language": "python",
   "name": "python3"
  },
  "language_info": {
   "codemirror_mode": {
    "name": "ipython",
    "version": 3
   },
   "file_extension": ".py",
   "mimetype": "text/x-python",
   "name": "python",
   "nbconvert_exporter": "python",
   "pygments_lexer": "ipython3",
   "version": "3.9.18"
  }
 },
 "nbformat": 4,
 "nbformat_minor": 2
}
